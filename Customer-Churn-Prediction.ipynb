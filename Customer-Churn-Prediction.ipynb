{
 "cells": [
  {
   "cell_type": "code",
   "execution_count": 1,
   "id": "d9900bc4-1cac-4de5-8f59-cd99ea7d10e0",
   "metadata": {},
   "outputs": [],
   "source": [
    "import pandas as pd\n",
    "import numpy as np\n",
    "import matplotlib.pyplot as plt\n",
    "import seaborn as sns\n",
    "import warnings \n",
    "warnings.filterwarnings('ignore')"
   ]
  },
  {
   "cell_type": "code",
   "execution_count": 2,
   "id": "3c51786b-1254-415f-aa24-304c46ddfa0c",
   "metadata": {},
   "outputs": [],
   "source": [
    "data = pd.read_csv('Customer_Churn.csv')"
   ]
  },
  {
   "cell_type": "code",
   "execution_count": 3,
   "id": "976b881c-4fa6-486f-8070-b0e70badb47d",
   "metadata": {},
   "outputs": [
    {
     "data": {
      "text/html": [
       "<div>\n",
       "<style scoped>\n",
       "    .dataframe tbody tr th:only-of-type {\n",
       "        vertical-align: middle;\n",
       "    }\n",
       "\n",
       "    .dataframe tbody tr th {\n",
       "        vertical-align: top;\n",
       "    }\n",
       "\n",
       "    .dataframe thead th {\n",
       "        text-align: right;\n",
       "    }\n",
       "</style>\n",
       "<table border=\"1\" class=\"dataframe\">\n",
       "  <thead>\n",
       "    <tr style=\"text-align: right;\">\n",
       "      <th></th>\n",
       "      <th>customerID</th>\n",
       "      <th>gender</th>\n",
       "      <th>SeniorCitizen</th>\n",
       "      <th>Partner</th>\n",
       "      <th>Dependents</th>\n",
       "      <th>tenure</th>\n",
       "      <th>PhoneService</th>\n",
       "      <th>MultipleLines</th>\n",
       "      <th>InternetService</th>\n",
       "      <th>OnlineSecurity</th>\n",
       "      <th>...</th>\n",
       "      <th>DeviceProtection</th>\n",
       "      <th>TechSupport</th>\n",
       "      <th>StreamingTV</th>\n",
       "      <th>StreamingMovies</th>\n",
       "      <th>Contract</th>\n",
       "      <th>PaperlessBilling</th>\n",
       "      <th>PaymentMethod</th>\n",
       "      <th>MonthlyCharges</th>\n",
       "      <th>TotalCharges</th>\n",
       "      <th>Churn</th>\n",
       "    </tr>\n",
       "  </thead>\n",
       "  <tbody>\n",
       "    <tr>\n",
       "      <th>0</th>\n",
       "      <td>7590-VHVEG</td>\n",
       "      <td>Female</td>\n",
       "      <td>0</td>\n",
       "      <td>Yes</td>\n",
       "      <td>No</td>\n",
       "      <td>1</td>\n",
       "      <td>No</td>\n",
       "      <td>No phone service</td>\n",
       "      <td>DSL</td>\n",
       "      <td>No</td>\n",
       "      <td>...</td>\n",
       "      <td>No</td>\n",
       "      <td>No</td>\n",
       "      <td>No</td>\n",
       "      <td>No</td>\n",
       "      <td>Month-to-month</td>\n",
       "      <td>Yes</td>\n",
       "      <td>Electronic check</td>\n",
       "      <td>29.85</td>\n",
       "      <td>29.85</td>\n",
       "      <td>No</td>\n",
       "    </tr>\n",
       "    <tr>\n",
       "      <th>1</th>\n",
       "      <td>5575-GNVDE</td>\n",
       "      <td>Male</td>\n",
       "      <td>0</td>\n",
       "      <td>No</td>\n",
       "      <td>No</td>\n",
       "      <td>34</td>\n",
       "      <td>Yes</td>\n",
       "      <td>No</td>\n",
       "      <td>DSL</td>\n",
       "      <td>Yes</td>\n",
       "      <td>...</td>\n",
       "      <td>Yes</td>\n",
       "      <td>No</td>\n",
       "      <td>No</td>\n",
       "      <td>No</td>\n",
       "      <td>One year</td>\n",
       "      <td>No</td>\n",
       "      <td>Mailed check</td>\n",
       "      <td>56.95</td>\n",
       "      <td>1889.5</td>\n",
       "      <td>No</td>\n",
       "    </tr>\n",
       "    <tr>\n",
       "      <th>2</th>\n",
       "      <td>3668-QPYBK</td>\n",
       "      <td>Male</td>\n",
       "      <td>0</td>\n",
       "      <td>No</td>\n",
       "      <td>No</td>\n",
       "      <td>2</td>\n",
       "      <td>Yes</td>\n",
       "      <td>No</td>\n",
       "      <td>DSL</td>\n",
       "      <td>Yes</td>\n",
       "      <td>...</td>\n",
       "      <td>No</td>\n",
       "      <td>No</td>\n",
       "      <td>No</td>\n",
       "      <td>No</td>\n",
       "      <td>Month-to-month</td>\n",
       "      <td>Yes</td>\n",
       "      <td>Mailed check</td>\n",
       "      <td>53.85</td>\n",
       "      <td>108.15</td>\n",
       "      <td>Yes</td>\n",
       "    </tr>\n",
       "    <tr>\n",
       "      <th>3</th>\n",
       "      <td>7795-CFOCW</td>\n",
       "      <td>Male</td>\n",
       "      <td>0</td>\n",
       "      <td>No</td>\n",
       "      <td>No</td>\n",
       "      <td>45</td>\n",
       "      <td>No</td>\n",
       "      <td>No phone service</td>\n",
       "      <td>DSL</td>\n",
       "      <td>Yes</td>\n",
       "      <td>...</td>\n",
       "      <td>Yes</td>\n",
       "      <td>Yes</td>\n",
       "      <td>No</td>\n",
       "      <td>No</td>\n",
       "      <td>One year</td>\n",
       "      <td>No</td>\n",
       "      <td>Bank transfer (automatic)</td>\n",
       "      <td>42.30</td>\n",
       "      <td>1840.75</td>\n",
       "      <td>No</td>\n",
       "    </tr>\n",
       "    <tr>\n",
       "      <th>4</th>\n",
       "      <td>9237-HQITU</td>\n",
       "      <td>Female</td>\n",
       "      <td>0</td>\n",
       "      <td>No</td>\n",
       "      <td>No</td>\n",
       "      <td>2</td>\n",
       "      <td>Yes</td>\n",
       "      <td>No</td>\n",
       "      <td>Fiber optic</td>\n",
       "      <td>No</td>\n",
       "      <td>...</td>\n",
       "      <td>No</td>\n",
       "      <td>No</td>\n",
       "      <td>No</td>\n",
       "      <td>No</td>\n",
       "      <td>Month-to-month</td>\n",
       "      <td>Yes</td>\n",
       "      <td>Electronic check</td>\n",
       "      <td>70.70</td>\n",
       "      <td>151.65</td>\n",
       "      <td>Yes</td>\n",
       "    </tr>\n",
       "  </tbody>\n",
       "</table>\n",
       "<p>5 rows × 21 columns</p>\n",
       "</div>"
      ],
      "text/plain": [
       "   customerID  gender  SeniorCitizen Partner Dependents  tenure PhoneService   \n",
       "0  7590-VHVEG  Female              0     Yes         No       1           No  \\\n",
       "1  5575-GNVDE    Male              0      No         No      34          Yes   \n",
       "2  3668-QPYBK    Male              0      No         No       2          Yes   \n",
       "3  7795-CFOCW    Male              0      No         No      45           No   \n",
       "4  9237-HQITU  Female              0      No         No       2          Yes   \n",
       "\n",
       "      MultipleLines InternetService OnlineSecurity  ... DeviceProtection   \n",
       "0  No phone service             DSL             No  ...               No  \\\n",
       "1                No             DSL            Yes  ...              Yes   \n",
       "2                No             DSL            Yes  ...               No   \n",
       "3  No phone service             DSL            Yes  ...              Yes   \n",
       "4                No     Fiber optic             No  ...               No   \n",
       "\n",
       "  TechSupport StreamingTV StreamingMovies        Contract PaperlessBilling   \n",
       "0          No          No              No  Month-to-month              Yes  \\\n",
       "1          No          No              No        One year               No   \n",
       "2          No          No              No  Month-to-month              Yes   \n",
       "3         Yes          No              No        One year               No   \n",
       "4          No          No              No  Month-to-month              Yes   \n",
       "\n",
       "               PaymentMethod MonthlyCharges  TotalCharges Churn  \n",
       "0           Electronic check          29.85         29.85    No  \n",
       "1               Mailed check          56.95        1889.5    No  \n",
       "2               Mailed check          53.85        108.15   Yes  \n",
       "3  Bank transfer (automatic)          42.30       1840.75    No  \n",
       "4           Electronic check          70.70        151.65   Yes  \n",
       "\n",
       "[5 rows x 21 columns]"
      ]
     },
     "execution_count": 3,
     "metadata": {},
     "output_type": "execute_result"
    }
   ],
   "source": [
    "data.head()"
   ]
  },
  {
   "cell_type": "code",
   "execution_count": 4,
   "id": "da845b69-5057-4966-a7ad-d01a3116b4f1",
   "metadata": {},
   "outputs": [
    {
     "data": {
      "text/html": [
       "<div>\n",
       "<style scoped>\n",
       "    .dataframe tbody tr th:only-of-type {\n",
       "        vertical-align: middle;\n",
       "    }\n",
       "\n",
       "    .dataframe tbody tr th {\n",
       "        vertical-align: top;\n",
       "    }\n",
       "\n",
       "    .dataframe thead th {\n",
       "        text-align: right;\n",
       "    }\n",
       "</style>\n",
       "<table border=\"1\" class=\"dataframe\">\n",
       "  <thead>\n",
       "    <tr style=\"text-align: right;\">\n",
       "      <th></th>\n",
       "      <th>customerID</th>\n",
       "      <th>gender</th>\n",
       "      <th>SeniorCitizen</th>\n",
       "      <th>Partner</th>\n",
       "      <th>Dependents</th>\n",
       "      <th>tenure</th>\n",
       "      <th>PhoneService</th>\n",
       "      <th>MultipleLines</th>\n",
       "      <th>InternetService</th>\n",
       "      <th>OnlineSecurity</th>\n",
       "      <th>...</th>\n",
       "      <th>DeviceProtection</th>\n",
       "      <th>TechSupport</th>\n",
       "      <th>StreamingTV</th>\n",
       "      <th>StreamingMovies</th>\n",
       "      <th>Contract</th>\n",
       "      <th>PaperlessBilling</th>\n",
       "      <th>PaymentMethod</th>\n",
       "      <th>MonthlyCharges</th>\n",
       "      <th>TotalCharges</th>\n",
       "      <th>Churn</th>\n",
       "    </tr>\n",
       "  </thead>\n",
       "  <tbody>\n",
       "    <tr>\n",
       "      <th>7038</th>\n",
       "      <td>6840-RESVB</td>\n",
       "      <td>Male</td>\n",
       "      <td>0</td>\n",
       "      <td>Yes</td>\n",
       "      <td>Yes</td>\n",
       "      <td>24</td>\n",
       "      <td>Yes</td>\n",
       "      <td>Yes</td>\n",
       "      <td>DSL</td>\n",
       "      <td>Yes</td>\n",
       "      <td>...</td>\n",
       "      <td>Yes</td>\n",
       "      <td>Yes</td>\n",
       "      <td>Yes</td>\n",
       "      <td>Yes</td>\n",
       "      <td>One year</td>\n",
       "      <td>Yes</td>\n",
       "      <td>Mailed check</td>\n",
       "      <td>84.80</td>\n",
       "      <td>1990.5</td>\n",
       "      <td>No</td>\n",
       "    </tr>\n",
       "    <tr>\n",
       "      <th>7039</th>\n",
       "      <td>2234-XADUH</td>\n",
       "      <td>Female</td>\n",
       "      <td>0</td>\n",
       "      <td>Yes</td>\n",
       "      <td>Yes</td>\n",
       "      <td>72</td>\n",
       "      <td>Yes</td>\n",
       "      <td>Yes</td>\n",
       "      <td>Fiber optic</td>\n",
       "      <td>No</td>\n",
       "      <td>...</td>\n",
       "      <td>Yes</td>\n",
       "      <td>No</td>\n",
       "      <td>Yes</td>\n",
       "      <td>Yes</td>\n",
       "      <td>One year</td>\n",
       "      <td>Yes</td>\n",
       "      <td>Credit card (automatic)</td>\n",
       "      <td>103.20</td>\n",
       "      <td>7362.9</td>\n",
       "      <td>No</td>\n",
       "    </tr>\n",
       "    <tr>\n",
       "      <th>7040</th>\n",
       "      <td>4801-JZAZL</td>\n",
       "      <td>Female</td>\n",
       "      <td>0</td>\n",
       "      <td>Yes</td>\n",
       "      <td>Yes</td>\n",
       "      <td>11</td>\n",
       "      <td>No</td>\n",
       "      <td>No phone service</td>\n",
       "      <td>DSL</td>\n",
       "      <td>Yes</td>\n",
       "      <td>...</td>\n",
       "      <td>No</td>\n",
       "      <td>No</td>\n",
       "      <td>No</td>\n",
       "      <td>No</td>\n",
       "      <td>Month-to-month</td>\n",
       "      <td>Yes</td>\n",
       "      <td>Electronic check</td>\n",
       "      <td>29.60</td>\n",
       "      <td>346.45</td>\n",
       "      <td>No</td>\n",
       "    </tr>\n",
       "    <tr>\n",
       "      <th>7041</th>\n",
       "      <td>8361-LTMKD</td>\n",
       "      <td>Male</td>\n",
       "      <td>1</td>\n",
       "      <td>Yes</td>\n",
       "      <td>No</td>\n",
       "      <td>4</td>\n",
       "      <td>Yes</td>\n",
       "      <td>Yes</td>\n",
       "      <td>Fiber optic</td>\n",
       "      <td>No</td>\n",
       "      <td>...</td>\n",
       "      <td>No</td>\n",
       "      <td>No</td>\n",
       "      <td>No</td>\n",
       "      <td>No</td>\n",
       "      <td>Month-to-month</td>\n",
       "      <td>Yes</td>\n",
       "      <td>Mailed check</td>\n",
       "      <td>74.40</td>\n",
       "      <td>306.6</td>\n",
       "      <td>Yes</td>\n",
       "    </tr>\n",
       "    <tr>\n",
       "      <th>7042</th>\n",
       "      <td>3186-AJIEK</td>\n",
       "      <td>Male</td>\n",
       "      <td>0</td>\n",
       "      <td>No</td>\n",
       "      <td>No</td>\n",
       "      <td>66</td>\n",
       "      <td>Yes</td>\n",
       "      <td>No</td>\n",
       "      <td>Fiber optic</td>\n",
       "      <td>Yes</td>\n",
       "      <td>...</td>\n",
       "      <td>Yes</td>\n",
       "      <td>Yes</td>\n",
       "      <td>Yes</td>\n",
       "      <td>Yes</td>\n",
       "      <td>Two year</td>\n",
       "      <td>Yes</td>\n",
       "      <td>Bank transfer (automatic)</td>\n",
       "      <td>105.65</td>\n",
       "      <td>6844.5</td>\n",
       "      <td>No</td>\n",
       "    </tr>\n",
       "  </tbody>\n",
       "</table>\n",
       "<p>5 rows × 21 columns</p>\n",
       "</div>"
      ],
      "text/plain": [
       "      customerID  gender  SeniorCitizen Partner Dependents  tenure   \n",
       "7038  6840-RESVB    Male              0     Yes        Yes      24  \\\n",
       "7039  2234-XADUH  Female              0     Yes        Yes      72   \n",
       "7040  4801-JZAZL  Female              0     Yes        Yes      11   \n",
       "7041  8361-LTMKD    Male              1     Yes         No       4   \n",
       "7042  3186-AJIEK    Male              0      No         No      66   \n",
       "\n",
       "     PhoneService     MultipleLines InternetService OnlineSecurity  ...   \n",
       "7038          Yes               Yes             DSL            Yes  ...  \\\n",
       "7039          Yes               Yes     Fiber optic             No  ...   \n",
       "7040           No  No phone service             DSL            Yes  ...   \n",
       "7041          Yes               Yes     Fiber optic             No  ...   \n",
       "7042          Yes                No     Fiber optic            Yes  ...   \n",
       "\n",
       "     DeviceProtection TechSupport StreamingTV StreamingMovies        Contract   \n",
       "7038              Yes         Yes         Yes             Yes        One year  \\\n",
       "7039              Yes          No         Yes             Yes        One year   \n",
       "7040               No          No          No              No  Month-to-month   \n",
       "7041               No          No          No              No  Month-to-month   \n",
       "7042              Yes         Yes         Yes             Yes        Two year   \n",
       "\n",
       "     PaperlessBilling              PaymentMethod MonthlyCharges  TotalCharges   \n",
       "7038              Yes               Mailed check          84.80        1990.5  \\\n",
       "7039              Yes    Credit card (automatic)         103.20        7362.9   \n",
       "7040              Yes           Electronic check          29.60        346.45   \n",
       "7041              Yes               Mailed check          74.40         306.6   \n",
       "7042              Yes  Bank transfer (automatic)         105.65        6844.5   \n",
       "\n",
       "     Churn  \n",
       "7038    No  \n",
       "7039    No  \n",
       "7040    No  \n",
       "7041   Yes  \n",
       "7042    No  \n",
       "\n",
       "[5 rows x 21 columns]"
      ]
     },
     "execution_count": 4,
     "metadata": {},
     "output_type": "execute_result"
    }
   ],
   "source": [
    "data.tail()"
   ]
  },
  {
   "cell_type": "code",
   "execution_count": 5,
   "id": "4e986f36-4e48-40cf-8c08-5a9d37733f18",
   "metadata": {},
   "outputs": [
    {
     "data": {
      "text/plain": [
       "(7043, 21)"
      ]
     },
     "execution_count": 5,
     "metadata": {},
     "output_type": "execute_result"
    }
   ],
   "source": [
    "data.shape"
   ]
  },
  {
   "cell_type": "code",
   "execution_count": 6,
   "id": "9399d2d0-2e09-451d-8618-a1ee2ce38819",
   "metadata": {},
   "outputs": [
    {
     "name": "stdout",
     "output_type": "stream",
     "text": [
      "<class 'pandas.core.frame.DataFrame'>\n",
      "RangeIndex: 7043 entries, 0 to 7042\n",
      "Data columns (total 21 columns):\n",
      " #   Column            Non-Null Count  Dtype  \n",
      "---  ------            --------------  -----  \n",
      " 0   customerID        7043 non-null   object \n",
      " 1   gender            7043 non-null   object \n",
      " 2   SeniorCitizen     7043 non-null   int64  \n",
      " 3   Partner           7043 non-null   object \n",
      " 4   Dependents        7043 non-null   object \n",
      " 5   tenure            7043 non-null   int64  \n",
      " 6   PhoneService      7043 non-null   object \n",
      " 7   MultipleLines     7043 non-null   object \n",
      " 8   InternetService   7043 non-null   object \n",
      " 9   OnlineSecurity    7043 non-null   object \n",
      " 10  OnlineBackup      7043 non-null   object \n",
      " 11  DeviceProtection  7043 non-null   object \n",
      " 12  TechSupport       7043 non-null   object \n",
      " 13  StreamingTV       7043 non-null   object \n",
      " 14  StreamingMovies   7043 non-null   object \n",
      " 15  Contract          7043 non-null   object \n",
      " 16  PaperlessBilling  7043 non-null   object \n",
      " 17  PaymentMethod     7043 non-null   object \n",
      " 18  MonthlyCharges    7043 non-null   float64\n",
      " 19  TotalCharges      7043 non-null   object \n",
      " 20  Churn             7043 non-null   object \n",
      "dtypes: float64(1), int64(2), object(18)\n",
      "memory usage: 1.1+ MB\n"
     ]
    }
   ],
   "source": [
    "data.info()"
   ]
  },
  {
   "cell_type": "markdown",
   "id": "d8f14e37-c5b6-4d80-b81b-f4bb5a3ac25f",
   "metadata": {},
   "source": [
    "***********************************************************************************"
   ]
  },
  {
   "cell_type": "markdown",
   "id": "5c64a504-fc96-48de-b0be-12dc8d87ad3c",
   "metadata": {},
   "source": [
    "### Cleaning the data"
   ]
  },
  {
   "cell_type": "code",
   "execution_count": 7,
   "id": "fe755f3a-12ef-47a4-a504-e1b59cde8150",
   "metadata": {},
   "outputs": [],
   "source": [
    "data.drop('customerID', axis=1, inplace = True)"
   ]
  },
  {
   "cell_type": "code",
   "execution_count": 8,
   "id": "c8e59f3e-8013-40cf-b058-81575055602d",
   "metadata": {},
   "outputs": [
    {
     "name": "stdout",
     "output_type": "stream",
     "text": [
      "<class 'pandas.core.frame.DataFrame'>\n",
      "RangeIndex: 7043 entries, 0 to 7042\n",
      "Data columns (total 20 columns):\n",
      " #   Column            Non-Null Count  Dtype  \n",
      "---  ------            --------------  -----  \n",
      " 0   gender            7043 non-null   object \n",
      " 1   SeniorCitizen     7043 non-null   int64  \n",
      " 2   Partner           7043 non-null   object \n",
      " 3   Dependents        7043 non-null   object \n",
      " 4   tenure            7043 non-null   int64  \n",
      " 5   PhoneService      7043 non-null   object \n",
      " 6   MultipleLines     7043 non-null   object \n",
      " 7   InternetService   7043 non-null   object \n",
      " 8   OnlineSecurity    7043 non-null   object \n",
      " 9   OnlineBackup      7043 non-null   object \n",
      " 10  DeviceProtection  7043 non-null   object \n",
      " 11  TechSupport       7043 non-null   object \n",
      " 12  StreamingTV       7043 non-null   object \n",
      " 13  StreamingMovies   7043 non-null   object \n",
      " 14  Contract          7043 non-null   object \n",
      " 15  PaperlessBilling  7043 non-null   object \n",
      " 16  PaymentMethod     7043 non-null   object \n",
      " 17  MonthlyCharges    7043 non-null   float64\n",
      " 18  TotalCharges      7043 non-null   object \n",
      " 19  Churn             7043 non-null   object \n",
      "dtypes: float64(1), int64(2), object(17)\n",
      "memory usage: 1.1+ MB\n"
     ]
    }
   ],
   "source": [
    "data.info()"
   ]
  },
  {
   "cell_type": "code",
   "execution_count": 9,
   "id": "1697b8c7-ed99-4d15-94c3-b1a6df854f84",
   "metadata": {},
   "outputs": [
    {
     "data": {
      "text/plain": [
       "gender              0\n",
       "SeniorCitizen       0\n",
       "Partner             0\n",
       "Dependents          0\n",
       "tenure              0\n",
       "PhoneService        0\n",
       "MultipleLines       0\n",
       "InternetService     0\n",
       "OnlineSecurity      0\n",
       "OnlineBackup        0\n",
       "DeviceProtection    0\n",
       "TechSupport         0\n",
       "StreamingTV         0\n",
       "StreamingMovies     0\n",
       "Contract            0\n",
       "PaperlessBilling    0\n",
       "PaymentMethod       0\n",
       "MonthlyCharges      0\n",
       "TotalCharges        0\n",
       "Churn               0\n",
       "dtype: int64"
      ]
     },
     "execution_count": 9,
     "metadata": {},
     "output_type": "execute_result"
    }
   ],
   "source": [
    "data.isnull().sum()"
   ]
  },
  {
   "cell_type": "code",
   "execution_count": 10,
   "id": "b376c31d-27f2-4446-9932-9bfe0cf782d9",
   "metadata": {},
   "outputs": [
    {
     "data": {
      "text/plain": [
       "22"
      ]
     },
     "execution_count": 10,
     "metadata": {},
     "output_type": "execute_result"
    }
   ],
   "source": [
    "data.duplicated().sum()"
   ]
  },
  {
   "cell_type": "code",
   "execution_count": 11,
   "id": "de8caec1-6e43-4fd5-94d7-15e8a89235da",
   "metadata": {},
   "outputs": [],
   "source": [
    "data.drop_duplicates(inplace = True)"
   ]
  },
  {
   "cell_type": "code",
   "execution_count": 12,
   "id": "e6cb8181-d412-4933-ab29-d1bacd398dd6",
   "metadata": {},
   "outputs": [
    {
     "data": {
      "text/plain": [
       "0"
      ]
     },
     "execution_count": 12,
     "metadata": {},
     "output_type": "execute_result"
    }
   ],
   "source": [
    "data.duplicated().sum()"
   ]
  },
  {
   "cell_type": "code",
   "execution_count": 13,
   "id": "8d98a0b4-4e76-4492-95f0-791b65668792",
   "metadata": {},
   "outputs": [],
   "source": [
    "data.reset_index(inplace = True)"
   ]
  },
  {
   "cell_type": "code",
   "execution_count": 14,
   "id": "bdd25237-68b3-4742-a831-2107e91633e9",
   "metadata": {},
   "outputs": [
    {
     "data": {
      "text/plain": [
       "(7021, 21)"
      ]
     },
     "execution_count": 14,
     "metadata": {},
     "output_type": "execute_result"
    }
   ],
   "source": [
    "data.shape"
   ]
  },
  {
   "cell_type": "code",
   "execution_count": 15,
   "id": "6e6cc8a4-1707-4888-a26e-9106647e7cf6",
   "metadata": {},
   "outputs": [
    {
     "name": "stdout",
     "output_type": "stream",
     "text": [
      "<class 'pandas.core.frame.DataFrame'>\n",
      "RangeIndex: 7021 entries, 0 to 7020\n",
      "Data columns (total 21 columns):\n",
      " #   Column            Non-Null Count  Dtype  \n",
      "---  ------            --------------  -----  \n",
      " 0   index             7021 non-null   int64  \n",
      " 1   gender            7021 non-null   object \n",
      " 2   SeniorCitizen     7021 non-null   int64  \n",
      " 3   Partner           7021 non-null   object \n",
      " 4   Dependents        7021 non-null   object \n",
      " 5   tenure            7021 non-null   int64  \n",
      " 6   PhoneService      7021 non-null   object \n",
      " 7   MultipleLines     7021 non-null   object \n",
      " 8   InternetService   7021 non-null   object \n",
      " 9   OnlineSecurity    7021 non-null   object \n",
      " 10  OnlineBackup      7021 non-null   object \n",
      " 11  DeviceProtection  7021 non-null   object \n",
      " 12  TechSupport       7021 non-null   object \n",
      " 13  StreamingTV       7021 non-null   object \n",
      " 14  StreamingMovies   7021 non-null   object \n",
      " 15  Contract          7021 non-null   object \n",
      " 16  PaperlessBilling  7021 non-null   object \n",
      " 17  PaymentMethod     7021 non-null   object \n",
      " 18  MonthlyCharges    7021 non-null   float64\n",
      " 19  TotalCharges      7021 non-null   object \n",
      " 20  Churn             7021 non-null   object \n",
      "dtypes: float64(1), int64(3), object(17)\n",
      "memory usage: 1.1+ MB\n"
     ]
    }
   ],
   "source": [
    "data.info()"
   ]
  },
  {
   "cell_type": "code",
   "execution_count": 16,
   "id": "0ac551ad-860b-425b-a7b3-af1724baef90",
   "metadata": {},
   "outputs": [],
   "source": [
    "data.drop('index', axis = 1, inplace = True)"
   ]
  },
  {
   "cell_type": "code",
   "execution_count": 17,
   "id": "da50ffeb-4b7e-457b-8dcb-fd0b81f40cd4",
   "metadata": {},
   "outputs": [
    {
     "name": "stdout",
     "output_type": "stream",
     "text": [
      "\n",
      "*********************** gender ******************************\n"
     ]
    },
    {
     "data": {
      "text/plain": [
       "count     7021\n",
       "unique       2\n",
       "top       Male\n",
       "freq      3541\n",
       "Name: gender, dtype: object"
      ]
     },
     "metadata": {},
     "output_type": "display_data"
    },
    {
     "name": "stdout",
     "output_type": "stream",
     "text": [
      "*****************************************************\n",
      "\n",
      "*********************** SeniorCitizen ******************************\n"
     ]
    },
    {
     "data": {
      "text/plain": [
       "count    7021.000000\n",
       "mean        0.162512\n",
       "std         0.368947\n",
       "min         0.000000\n",
       "25%         0.000000\n",
       "50%         0.000000\n",
       "75%         0.000000\n",
       "max         1.000000\n",
       "Name: SeniorCitizen, dtype: float64"
      ]
     },
     "metadata": {},
     "output_type": "display_data"
    },
    {
     "name": "stdout",
     "output_type": "stream",
     "text": [
      "*****************************************************\n",
      "\n",
      "*********************** Partner ******************************\n"
     ]
    },
    {
     "data": {
      "text/plain": [
       "count     7021\n",
       "unique       2\n",
       "top         No\n",
       "freq      3619\n",
       "Name: Partner, dtype: object"
      ]
     },
     "metadata": {},
     "output_type": "display_data"
    },
    {
     "name": "stdout",
     "output_type": "stream",
     "text": [
      "*****************************************************\n",
      "\n",
      "*********************** Dependents ******************************\n"
     ]
    },
    {
     "data": {
      "text/plain": [
       "count     7021\n",
       "unique       2\n",
       "top         No\n",
       "freq      4911\n",
       "Name: Dependents, dtype: object"
      ]
     },
     "metadata": {},
     "output_type": "display_data"
    },
    {
     "name": "stdout",
     "output_type": "stream",
     "text": [
      "*****************************************************\n",
      "\n",
      "*********************** tenure ******************************\n"
     ]
    },
    {
     "data": {
      "text/plain": [
       "count    7021.000000\n",
       "mean       32.469449\n",
       "std        24.534965\n",
       "min         0.000000\n",
       "25%         9.000000\n",
       "50%        29.000000\n",
       "75%        55.000000\n",
       "max        72.000000\n",
       "Name: tenure, dtype: float64"
      ]
     },
     "metadata": {},
     "output_type": "display_data"
    },
    {
     "name": "stdout",
     "output_type": "stream",
     "text": [
      "*****************************************************\n",
      "\n",
      "*********************** PhoneService ******************************\n"
     ]
    },
    {
     "data": {
      "text/plain": [
       "count     7021\n",
       "unique       2\n",
       "top        Yes\n",
       "freq      6339\n",
       "Name: PhoneService, dtype: object"
      ]
     },
     "metadata": {},
     "output_type": "display_data"
    },
    {
     "name": "stdout",
     "output_type": "stream",
     "text": [
      "*****************************************************\n",
      "\n",
      "*********************** MultipleLines ******************************\n"
     ]
    },
    {
     "data": {
      "text/plain": [
       "count     7021\n",
       "unique       3\n",
       "top         No\n",
       "freq      3368\n",
       "Name: MultipleLines, dtype: object"
      ]
     },
     "metadata": {},
     "output_type": "display_data"
    },
    {
     "name": "stdout",
     "output_type": "stream",
     "text": [
      "*****************************************************\n",
      "\n",
      "*********************** InternetService ******************************\n"
     ]
    },
    {
     "data": {
      "text/plain": [
       "count            7021\n",
       "unique              3\n",
       "top       Fiber optic\n",
       "freq             3090\n",
       "Name: InternetService, dtype: object"
      ]
     },
     "metadata": {},
     "output_type": "display_data"
    },
    {
     "name": "stdout",
     "output_type": "stream",
     "text": [
      "*****************************************************\n",
      "\n",
      "*********************** OnlineSecurity ******************************\n"
     ]
    },
    {
     "data": {
      "text/plain": [
       "count     7021\n",
       "unique       3\n",
       "top         No\n",
       "freq      3490\n",
       "Name: OnlineSecurity, dtype: object"
      ]
     },
     "metadata": {},
     "output_type": "display_data"
    },
    {
     "name": "stdout",
     "output_type": "stream",
     "text": [
      "*****************************************************\n",
      "\n",
      "*********************** OnlineBackup ******************************\n"
     ]
    },
    {
     "data": {
      "text/plain": [
       "count     7021\n",
       "unique       3\n",
       "top         No\n",
       "freq      3080\n",
       "Name: OnlineBackup, dtype: object"
      ]
     },
     "metadata": {},
     "output_type": "display_data"
    },
    {
     "name": "stdout",
     "output_type": "stream",
     "text": [
      "*****************************************************\n",
      "\n",
      "*********************** DeviceProtection ******************************\n"
     ]
    },
    {
     "data": {
      "text/plain": [
       "count     7021\n",
       "unique       3\n",
       "top         No\n",
       "freq      3087\n",
       "Name: DeviceProtection, dtype: object"
      ]
     },
     "metadata": {},
     "output_type": "display_data"
    },
    {
     "name": "stdout",
     "output_type": "stream",
     "text": [
      "*****************************************************\n",
      "\n",
      "*********************** TechSupport ******************************\n"
     ]
    },
    {
     "data": {
      "text/plain": [
       "count     7021\n",
       "unique       3\n",
       "top         No\n",
       "freq      3465\n",
       "Name: TechSupport, dtype: object"
      ]
     },
     "metadata": {},
     "output_type": "display_data"
    },
    {
     "name": "stdout",
     "output_type": "stream",
     "text": [
      "*****************************************************\n",
      "\n",
      "*********************** StreamingTV ******************************\n"
     ]
    },
    {
     "data": {
      "text/plain": [
       "count     7021\n",
       "unique       3\n",
       "top         No\n",
       "freq      2802\n",
       "Name: StreamingTV, dtype: object"
      ]
     },
     "metadata": {},
     "output_type": "display_data"
    },
    {
     "name": "stdout",
     "output_type": "stream",
     "text": [
      "*****************************************************\n",
      "\n",
      "*********************** StreamingMovies ******************************\n"
     ]
    },
    {
     "data": {
      "text/plain": [
       "count     7021\n",
       "unique       3\n",
       "top         No\n",
       "freq      2777\n",
       "Name: StreamingMovies, dtype: object"
      ]
     },
     "metadata": {},
     "output_type": "display_data"
    },
    {
     "name": "stdout",
     "output_type": "stream",
     "text": [
      "*****************************************************\n",
      "\n",
      "*********************** Contract ******************************\n"
     ]
    },
    {
     "data": {
      "text/plain": [
       "count               7021\n",
       "unique                 3\n",
       "top       Month-to-month\n",
       "freq                3853\n",
       "Name: Contract, dtype: object"
      ]
     },
     "metadata": {},
     "output_type": "display_data"
    },
    {
     "name": "stdout",
     "output_type": "stream",
     "text": [
      "*****************************************************\n",
      "\n",
      "*********************** PaperlessBilling ******************************\n"
     ]
    },
    {
     "data": {
      "text/plain": [
       "count     7021\n",
       "unique       2\n",
       "top        Yes\n",
       "freq      4161\n",
       "Name: PaperlessBilling, dtype: object"
      ]
     },
     "metadata": {},
     "output_type": "display_data"
    },
    {
     "name": "stdout",
     "output_type": "stream",
     "text": [
      "*****************************************************\n",
      "\n",
      "*********************** PaymentMethod ******************************\n"
     ]
    },
    {
     "data": {
      "text/plain": [
       "count                 7021\n",
       "unique                   4\n",
       "top       Electronic check\n",
       "freq                  2359\n",
       "Name: PaymentMethod, dtype: object"
      ]
     },
     "metadata": {},
     "output_type": "display_data"
    },
    {
     "name": "stdout",
     "output_type": "stream",
     "text": [
      "*****************************************************\n",
      "\n",
      "*********************** MonthlyCharges ******************************\n"
     ]
    },
    {
     "data": {
      "text/plain": [
       "count    7021.000000\n",
       "mean       64.851894\n",
       "std        30.069001\n",
       "min        18.250000\n",
       "25%        35.750000\n",
       "50%        70.400000\n",
       "75%        89.900000\n",
       "max       118.750000\n",
       "Name: MonthlyCharges, dtype: float64"
      ]
     },
     "metadata": {},
     "output_type": "display_data"
    },
    {
     "name": "stdout",
     "output_type": "stream",
     "text": [
      "*****************************************************\n",
      "\n",
      "*********************** TotalCharges ******************************\n"
     ]
    },
    {
     "data": {
      "text/plain": [
       "count     7021\n",
       "unique    6531\n",
       "top           \n",
       "freq        11\n",
       "Name: TotalCharges, dtype: object"
      ]
     },
     "metadata": {},
     "output_type": "display_data"
    },
    {
     "name": "stdout",
     "output_type": "stream",
     "text": [
      "*****************************************************\n",
      "\n",
      "*********************** Churn ******************************\n"
     ]
    },
    {
     "data": {
      "text/plain": [
       "count     7021\n",
       "unique       2\n",
       "top         No\n",
       "freq      5164\n",
       "Name: Churn, dtype: object"
      ]
     },
     "metadata": {},
     "output_type": "display_data"
    },
    {
     "name": "stdout",
     "output_type": "stream",
     "text": [
      "*****************************************************\n"
     ]
    }
   ],
   "source": [
    "for i in data:\n",
    "    print(f\"\\n*********************** {i} ******************************\")\n",
    "    \n",
    "    display(data[i].describe())\n",
    "    \n",
    "    print(\"*****************************************************\")\n"
   ]
  },
  {
   "cell_type": "code",
   "execution_count": 18,
   "id": "5031359b-194d-4f3e-81b0-24b24b70f87f",
   "metadata": {},
   "outputs": [
    {
     "name": "stdout",
     "output_type": "stream",
     "text": [
      "\n",
      "*********************** gender ******************************\n"
     ]
    },
    {
     "data": {
      "text/plain": [
       "gender\n",
       "Male      3541\n",
       "Female    3480\n",
       "Name: count, dtype: int64"
      ]
     },
     "metadata": {},
     "output_type": "display_data"
    },
    {
     "name": "stdout",
     "output_type": "stream",
     "text": [
      "*****************************************************\n",
      "\n",
      "*********************** SeniorCitizen ******************************\n"
     ]
    },
    {
     "data": {
      "text/plain": [
       "SeniorCitizen\n",
       "0    5880\n",
       "1    1141\n",
       "Name: count, dtype: int64"
      ]
     },
     "metadata": {},
     "output_type": "display_data"
    },
    {
     "name": "stdout",
     "output_type": "stream",
     "text": [
      "*****************************************************\n",
      "\n",
      "*********************** Partner ******************************\n"
     ]
    },
    {
     "data": {
      "text/plain": [
       "Partner\n",
       "No     3619\n",
       "Yes    3402\n",
       "Name: count, dtype: int64"
      ]
     },
     "metadata": {},
     "output_type": "display_data"
    },
    {
     "name": "stdout",
     "output_type": "stream",
     "text": [
      "*****************************************************\n",
      "\n",
      "*********************** Dependents ******************************\n"
     ]
    },
    {
     "data": {
      "text/plain": [
       "Dependents\n",
       "No     4911\n",
       "Yes    2110\n",
       "Name: count, dtype: int64"
      ]
     },
     "metadata": {},
     "output_type": "display_data"
    },
    {
     "name": "stdout",
     "output_type": "stream",
     "text": [
      "*****************************************************\n",
      "\n",
      "*********************** tenure ******************************\n"
     ]
    },
    {
     "data": {
      "text/plain": [
       "tenure\n",
       "1     591\n",
       "72    362\n",
       "2     238\n",
       "3     200\n",
       "4     176\n",
       "     ... \n",
       "28     57\n",
       "39     56\n",
       "44     51\n",
       "36     50\n",
       "0      11\n",
       "Name: count, Length: 73, dtype: int64"
      ]
     },
     "metadata": {},
     "output_type": "display_data"
    },
    {
     "name": "stdout",
     "output_type": "stream",
     "text": [
      "*****************************************************\n",
      "\n",
      "*********************** PhoneService ******************************\n"
     ]
    },
    {
     "data": {
      "text/plain": [
       "PhoneService\n",
       "Yes    6339\n",
       "No      682\n",
       "Name: count, dtype: int64"
      ]
     },
     "metadata": {},
     "output_type": "display_data"
    },
    {
     "name": "stdout",
     "output_type": "stream",
     "text": [
      "*****************************************************\n",
      "\n",
      "*********************** MultipleLines ******************************\n"
     ]
    },
    {
     "data": {
      "text/plain": [
       "MultipleLines\n",
       "No                  3368\n",
       "Yes                 2971\n",
       "No phone service     682\n",
       "Name: count, dtype: int64"
      ]
     },
     "metadata": {},
     "output_type": "display_data"
    },
    {
     "name": "stdout",
     "output_type": "stream",
     "text": [
      "*****************************************************\n",
      "\n",
      "*********************** InternetService ******************************\n"
     ]
    },
    {
     "data": {
      "text/plain": [
       "InternetService\n",
       "Fiber optic    3090\n",
       "DSL            2419\n",
       "No             1512\n",
       "Name: count, dtype: int64"
      ]
     },
     "metadata": {},
     "output_type": "display_data"
    },
    {
     "name": "stdout",
     "output_type": "stream",
     "text": [
      "*****************************************************\n",
      "\n",
      "*********************** OnlineSecurity ******************************\n"
     ]
    },
    {
     "data": {
      "text/plain": [
       "OnlineSecurity\n",
       "No                     3490\n",
       "Yes                    2019\n",
       "No internet service    1512\n",
       "Name: count, dtype: int64"
      ]
     },
     "metadata": {},
     "output_type": "display_data"
    },
    {
     "name": "stdout",
     "output_type": "stream",
     "text": [
      "*****************************************************\n",
      "\n",
      "*********************** OnlineBackup ******************************\n"
     ]
    },
    {
     "data": {
      "text/plain": [
       "OnlineBackup\n",
       "No                     3080\n",
       "Yes                    2429\n",
       "No internet service    1512\n",
       "Name: count, dtype: int64"
      ]
     },
     "metadata": {},
     "output_type": "display_data"
    },
    {
     "name": "stdout",
     "output_type": "stream",
     "text": [
      "*****************************************************\n",
      "\n",
      "*********************** DeviceProtection ******************************\n"
     ]
    },
    {
     "data": {
      "text/plain": [
       "DeviceProtection\n",
       "No                     3087\n",
       "Yes                    2422\n",
       "No internet service    1512\n",
       "Name: count, dtype: int64"
      ]
     },
     "metadata": {},
     "output_type": "display_data"
    },
    {
     "name": "stdout",
     "output_type": "stream",
     "text": [
      "*****************************************************\n",
      "\n",
      "*********************** TechSupport ******************************\n"
     ]
    },
    {
     "data": {
      "text/plain": [
       "TechSupport\n",
       "No                     3465\n",
       "Yes                    2044\n",
       "No internet service    1512\n",
       "Name: count, dtype: int64"
      ]
     },
     "metadata": {},
     "output_type": "display_data"
    },
    {
     "name": "stdout",
     "output_type": "stream",
     "text": [
      "*****************************************************\n",
      "\n",
      "*********************** StreamingTV ******************************\n"
     ]
    },
    {
     "data": {
      "text/plain": [
       "StreamingTV\n",
       "No                     2802\n",
       "Yes                    2707\n",
       "No internet service    1512\n",
       "Name: count, dtype: int64"
      ]
     },
     "metadata": {},
     "output_type": "display_data"
    },
    {
     "name": "stdout",
     "output_type": "stream",
     "text": [
      "*****************************************************\n",
      "\n",
      "*********************** StreamingMovies ******************************\n"
     ]
    },
    {
     "data": {
      "text/plain": [
       "StreamingMovies\n",
       "No                     2777\n",
       "Yes                    2732\n",
       "No internet service    1512\n",
       "Name: count, dtype: int64"
      ]
     },
     "metadata": {},
     "output_type": "display_data"
    },
    {
     "name": "stdout",
     "output_type": "stream",
     "text": [
      "*****************************************************\n",
      "\n",
      "*********************** Contract ******************************\n"
     ]
    },
    {
     "data": {
      "text/plain": [
       "Contract\n",
       "Month-to-month    3853\n",
       "Two year          1695\n",
       "One year          1473\n",
       "Name: count, dtype: int64"
      ]
     },
     "metadata": {},
     "output_type": "display_data"
    },
    {
     "name": "stdout",
     "output_type": "stream",
     "text": [
      "*****************************************************\n",
      "\n",
      "*********************** PaperlessBilling ******************************\n"
     ]
    },
    {
     "data": {
      "text/plain": [
       "PaperlessBilling\n",
       "Yes    4161\n",
       "No     2860\n",
       "Name: count, dtype: int64"
      ]
     },
     "metadata": {},
     "output_type": "display_data"
    },
    {
     "name": "stdout",
     "output_type": "stream",
     "text": [
      "*****************************************************\n",
      "\n",
      "*********************** PaymentMethod ******************************\n"
     ]
    },
    {
     "data": {
      "text/plain": [
       "PaymentMethod\n",
       "Electronic check             2359\n",
       "Mailed check                 1596\n",
       "Bank transfer (automatic)    1544\n",
       "Credit card (automatic)      1522\n",
       "Name: count, dtype: int64"
      ]
     },
     "metadata": {},
     "output_type": "display_data"
    },
    {
     "name": "stdout",
     "output_type": "stream",
     "text": [
      "*****************************************************\n",
      "\n",
      "*********************** MonthlyCharges ******************************\n"
     ]
    },
    {
     "data": {
      "text/plain": [
       "MonthlyCharges\n",
       "20.05     59\n",
       "19.85     45\n",
       "19.95     44\n",
       "19.70     43\n",
       "19.90     43\n",
       "          ..\n",
       "23.65      1\n",
       "114.70     1\n",
       "43.65      1\n",
       "87.80      1\n",
       "78.70      1\n",
       "Name: count, Length: 1585, dtype: int64"
      ]
     },
     "metadata": {},
     "output_type": "display_data"
    },
    {
     "name": "stdout",
     "output_type": "stream",
     "text": [
      "*****************************************************\n",
      "\n",
      "*********************** TotalCharges ******************************\n"
     ]
    },
    {
     "data": {
      "text/plain": [
       "TotalCharges\n",
       "          11\n",
       "19.75      9\n",
       "20.2       8\n",
       "19.9       7\n",
       "19.65      7\n",
       "          ..\n",
       "6849.4     1\n",
       "692.35     1\n",
       "130.15     1\n",
       "3211.9     1\n",
       "6844.5     1\n",
       "Name: count, Length: 6531, dtype: int64"
      ]
     },
     "metadata": {},
     "output_type": "display_data"
    },
    {
     "name": "stdout",
     "output_type": "stream",
     "text": [
      "*****************************************************\n",
      "\n",
      "*********************** Churn ******************************\n"
     ]
    },
    {
     "data": {
      "text/plain": [
       "Churn\n",
       "No     5164\n",
       "Yes    1857\n",
       "Name: count, dtype: int64"
      ]
     },
     "metadata": {},
     "output_type": "display_data"
    },
    {
     "name": "stdout",
     "output_type": "stream",
     "text": [
      "*****************************************************\n"
     ]
    }
   ],
   "source": [
    "for i in data:\n",
    "    print(f\"\\n*********************** {i} ******************************\")\n",
    "    \n",
    "    display(data[i].value_counts())\n",
    "    \n",
    "    print(\"*****************************************************\")\n"
   ]
  },
  {
   "cell_type": "code",
   "execution_count": 19,
   "id": "5d576495-b217-46a9-823c-f57083f6f9ee",
   "metadata": {},
   "outputs": [
    {
     "data": {
      "text/html": [
       "<div>\n",
       "<style scoped>\n",
       "    .dataframe tbody tr th:only-of-type {\n",
       "        vertical-align: middle;\n",
       "    }\n",
       "\n",
       "    .dataframe tbody tr th {\n",
       "        vertical-align: top;\n",
       "    }\n",
       "\n",
       "    .dataframe thead th {\n",
       "        text-align: right;\n",
       "    }\n",
       "</style>\n",
       "<table border=\"1\" class=\"dataframe\">\n",
       "  <thead>\n",
       "    <tr style=\"text-align: right;\">\n",
       "      <th></th>\n",
       "      <th>gender</th>\n",
       "      <th>SeniorCitizen</th>\n",
       "      <th>Partner</th>\n",
       "      <th>Dependents</th>\n",
       "      <th>tenure</th>\n",
       "      <th>PhoneService</th>\n",
       "      <th>MultipleLines</th>\n",
       "      <th>InternetService</th>\n",
       "      <th>OnlineSecurity</th>\n",
       "      <th>OnlineBackup</th>\n",
       "      <th>DeviceProtection</th>\n",
       "      <th>TechSupport</th>\n",
       "      <th>StreamingTV</th>\n",
       "      <th>StreamingMovies</th>\n",
       "      <th>Contract</th>\n",
       "      <th>PaperlessBilling</th>\n",
       "      <th>PaymentMethod</th>\n",
       "      <th>MonthlyCharges</th>\n",
       "      <th>TotalCharges</th>\n",
       "      <th>Churn</th>\n",
       "    </tr>\n",
       "  </thead>\n",
       "  <tbody>\n",
       "    <tr>\n",
       "      <th>488</th>\n",
       "      <td>Female</td>\n",
       "      <td>0</td>\n",
       "      <td>Yes</td>\n",
       "      <td>Yes</td>\n",
       "      <td>0</td>\n",
       "      <td>No</td>\n",
       "      <td>No phone service</td>\n",
       "      <td>DSL</td>\n",
       "      <td>Yes</td>\n",
       "      <td>No</td>\n",
       "      <td>Yes</td>\n",
       "      <td>Yes</td>\n",
       "      <td>Yes</td>\n",
       "      <td>No</td>\n",
       "      <td>Two year</td>\n",
       "      <td>Yes</td>\n",
       "      <td>Bank transfer (automatic)</td>\n",
       "      <td>52.55</td>\n",
       "      <td></td>\n",
       "      <td>No</td>\n",
       "    </tr>\n",
       "    <tr>\n",
       "      <th>753</th>\n",
       "      <td>Male</td>\n",
       "      <td>0</td>\n",
       "      <td>No</td>\n",
       "      <td>Yes</td>\n",
       "      <td>0</td>\n",
       "      <td>Yes</td>\n",
       "      <td>No</td>\n",
       "      <td>No</td>\n",
       "      <td>No internet service</td>\n",
       "      <td>No internet service</td>\n",
       "      <td>No internet service</td>\n",
       "      <td>No internet service</td>\n",
       "      <td>No internet service</td>\n",
       "      <td>No internet service</td>\n",
       "      <td>Two year</td>\n",
       "      <td>No</td>\n",
       "      <td>Mailed check</td>\n",
       "      <td>20.25</td>\n",
       "      <td></td>\n",
       "      <td>No</td>\n",
       "    </tr>\n",
       "    <tr>\n",
       "      <th>936</th>\n",
       "      <td>Female</td>\n",
       "      <td>0</td>\n",
       "      <td>Yes</td>\n",
       "      <td>Yes</td>\n",
       "      <td>0</td>\n",
       "      <td>Yes</td>\n",
       "      <td>No</td>\n",
       "      <td>DSL</td>\n",
       "      <td>Yes</td>\n",
       "      <td>Yes</td>\n",
       "      <td>Yes</td>\n",
       "      <td>No</td>\n",
       "      <td>Yes</td>\n",
       "      <td>Yes</td>\n",
       "      <td>Two year</td>\n",
       "      <td>No</td>\n",
       "      <td>Mailed check</td>\n",
       "      <td>80.85</td>\n",
       "      <td></td>\n",
       "      <td>No</td>\n",
       "    </tr>\n",
       "    <tr>\n",
       "      <th>1081</th>\n",
       "      <td>Male</td>\n",
       "      <td>0</td>\n",
       "      <td>Yes</td>\n",
       "      <td>Yes</td>\n",
       "      <td>0</td>\n",
       "      <td>Yes</td>\n",
       "      <td>Yes</td>\n",
       "      <td>No</td>\n",
       "      <td>No internet service</td>\n",
       "      <td>No internet service</td>\n",
       "      <td>No internet service</td>\n",
       "      <td>No internet service</td>\n",
       "      <td>No internet service</td>\n",
       "      <td>No internet service</td>\n",
       "      <td>Two year</td>\n",
       "      <td>No</td>\n",
       "      <td>Mailed check</td>\n",
       "      <td>25.75</td>\n",
       "      <td></td>\n",
       "      <td>No</td>\n",
       "    </tr>\n",
       "    <tr>\n",
       "      <th>1338</th>\n",
       "      <td>Female</td>\n",
       "      <td>0</td>\n",
       "      <td>Yes</td>\n",
       "      <td>Yes</td>\n",
       "      <td>0</td>\n",
       "      <td>No</td>\n",
       "      <td>No phone service</td>\n",
       "      <td>DSL</td>\n",
       "      <td>Yes</td>\n",
       "      <td>Yes</td>\n",
       "      <td>Yes</td>\n",
       "      <td>Yes</td>\n",
       "      <td>Yes</td>\n",
       "      <td>No</td>\n",
       "      <td>Two year</td>\n",
       "      <td>No</td>\n",
       "      <td>Credit card (automatic)</td>\n",
       "      <td>56.05</td>\n",
       "      <td></td>\n",
       "      <td>No</td>\n",
       "    </tr>\n",
       "    <tr>\n",
       "      <th>3323</th>\n",
       "      <td>Male</td>\n",
       "      <td>0</td>\n",
       "      <td>Yes</td>\n",
       "      <td>Yes</td>\n",
       "      <td>0</td>\n",
       "      <td>Yes</td>\n",
       "      <td>No</td>\n",
       "      <td>No</td>\n",
       "      <td>No internet service</td>\n",
       "      <td>No internet service</td>\n",
       "      <td>No internet service</td>\n",
       "      <td>No internet service</td>\n",
       "      <td>No internet service</td>\n",
       "      <td>No internet service</td>\n",
       "      <td>Two year</td>\n",
       "      <td>No</td>\n",
       "      <td>Mailed check</td>\n",
       "      <td>19.85</td>\n",
       "      <td></td>\n",
       "      <td>No</td>\n",
       "    </tr>\n",
       "    <tr>\n",
       "      <th>3817</th>\n",
       "      <td>Male</td>\n",
       "      <td>0</td>\n",
       "      <td>Yes</td>\n",
       "      <td>Yes</td>\n",
       "      <td>0</td>\n",
       "      <td>Yes</td>\n",
       "      <td>Yes</td>\n",
       "      <td>No</td>\n",
       "      <td>No internet service</td>\n",
       "      <td>No internet service</td>\n",
       "      <td>No internet service</td>\n",
       "      <td>No internet service</td>\n",
       "      <td>No internet service</td>\n",
       "      <td>No internet service</td>\n",
       "      <td>Two year</td>\n",
       "      <td>No</td>\n",
       "      <td>Mailed check</td>\n",
       "      <td>25.35</td>\n",
       "      <td></td>\n",
       "      <td>No</td>\n",
       "    </tr>\n",
       "    <tr>\n",
       "      <th>4370</th>\n",
       "      <td>Female</td>\n",
       "      <td>0</td>\n",
       "      <td>Yes</td>\n",
       "      <td>Yes</td>\n",
       "      <td>0</td>\n",
       "      <td>Yes</td>\n",
       "      <td>No</td>\n",
       "      <td>No</td>\n",
       "      <td>No internet service</td>\n",
       "      <td>No internet service</td>\n",
       "      <td>No internet service</td>\n",
       "      <td>No internet service</td>\n",
       "      <td>No internet service</td>\n",
       "      <td>No internet service</td>\n",
       "      <td>Two year</td>\n",
       "      <td>No</td>\n",
       "      <td>Mailed check</td>\n",
       "      <td>20.00</td>\n",
       "      <td></td>\n",
       "      <td>No</td>\n",
       "    </tr>\n",
       "    <tr>\n",
       "      <th>5207</th>\n",
       "      <td>Male</td>\n",
       "      <td>0</td>\n",
       "      <td>Yes</td>\n",
       "      <td>Yes</td>\n",
       "      <td>0</td>\n",
       "      <td>Yes</td>\n",
       "      <td>No</td>\n",
       "      <td>No</td>\n",
       "      <td>No internet service</td>\n",
       "      <td>No internet service</td>\n",
       "      <td>No internet service</td>\n",
       "      <td>No internet service</td>\n",
       "      <td>No internet service</td>\n",
       "      <td>No internet service</td>\n",
       "      <td>One year</td>\n",
       "      <td>Yes</td>\n",
       "      <td>Mailed check</td>\n",
       "      <td>19.70</td>\n",
       "      <td></td>\n",
       "      <td>No</td>\n",
       "    </tr>\n",
       "    <tr>\n",
       "      <th>6652</th>\n",
       "      <td>Female</td>\n",
       "      <td>0</td>\n",
       "      <td>Yes</td>\n",
       "      <td>Yes</td>\n",
       "      <td>0</td>\n",
       "      <td>Yes</td>\n",
       "      <td>Yes</td>\n",
       "      <td>DSL</td>\n",
       "      <td>No</td>\n",
       "      <td>Yes</td>\n",
       "      <td>Yes</td>\n",
       "      <td>Yes</td>\n",
       "      <td>Yes</td>\n",
       "      <td>No</td>\n",
       "      <td>Two year</td>\n",
       "      <td>No</td>\n",
       "      <td>Mailed check</td>\n",
       "      <td>73.35</td>\n",
       "      <td></td>\n",
       "      <td>No</td>\n",
       "    </tr>\n",
       "    <tr>\n",
       "      <th>6735</th>\n",
       "      <td>Male</td>\n",
       "      <td>0</td>\n",
       "      <td>No</td>\n",
       "      <td>Yes</td>\n",
       "      <td>0</td>\n",
       "      <td>Yes</td>\n",
       "      <td>Yes</td>\n",
       "      <td>DSL</td>\n",
       "      <td>Yes</td>\n",
       "      <td>Yes</td>\n",
       "      <td>No</td>\n",
       "      <td>Yes</td>\n",
       "      <td>No</td>\n",
       "      <td>No</td>\n",
       "      <td>Two year</td>\n",
       "      <td>Yes</td>\n",
       "      <td>Bank transfer (automatic)</td>\n",
       "      <td>61.90</td>\n",
       "      <td></td>\n",
       "      <td>No</td>\n",
       "    </tr>\n",
       "  </tbody>\n",
       "</table>\n",
       "</div>"
      ],
      "text/plain": [
       "      gender  SeniorCitizen Partner Dependents  tenure PhoneService   \n",
       "488   Female              0     Yes        Yes       0           No  \\\n",
       "753     Male              0      No        Yes       0          Yes   \n",
       "936   Female              0     Yes        Yes       0          Yes   \n",
       "1081    Male              0     Yes        Yes       0          Yes   \n",
       "1338  Female              0     Yes        Yes       0           No   \n",
       "3323    Male              0     Yes        Yes       0          Yes   \n",
       "3817    Male              0     Yes        Yes       0          Yes   \n",
       "4370  Female              0     Yes        Yes       0          Yes   \n",
       "5207    Male              0     Yes        Yes       0          Yes   \n",
       "6652  Female              0     Yes        Yes       0          Yes   \n",
       "6735    Male              0      No        Yes       0          Yes   \n",
       "\n",
       "         MultipleLines InternetService       OnlineSecurity   \n",
       "488   No phone service             DSL                  Yes  \\\n",
       "753                 No              No  No internet service   \n",
       "936                 No             DSL                  Yes   \n",
       "1081               Yes              No  No internet service   \n",
       "1338  No phone service             DSL                  Yes   \n",
       "3323                No              No  No internet service   \n",
       "3817               Yes              No  No internet service   \n",
       "4370                No              No  No internet service   \n",
       "5207                No              No  No internet service   \n",
       "6652               Yes             DSL                   No   \n",
       "6735               Yes             DSL                  Yes   \n",
       "\n",
       "             OnlineBackup     DeviceProtection          TechSupport   \n",
       "488                    No                  Yes                  Yes  \\\n",
       "753   No internet service  No internet service  No internet service   \n",
       "936                   Yes                  Yes                   No   \n",
       "1081  No internet service  No internet service  No internet service   \n",
       "1338                  Yes                  Yes                  Yes   \n",
       "3323  No internet service  No internet service  No internet service   \n",
       "3817  No internet service  No internet service  No internet service   \n",
       "4370  No internet service  No internet service  No internet service   \n",
       "5207  No internet service  No internet service  No internet service   \n",
       "6652                  Yes                  Yes                  Yes   \n",
       "6735                  Yes                   No                  Yes   \n",
       "\n",
       "              StreamingTV      StreamingMovies  Contract PaperlessBilling   \n",
       "488                   Yes                   No  Two year              Yes  \\\n",
       "753   No internet service  No internet service  Two year               No   \n",
       "936                   Yes                  Yes  Two year               No   \n",
       "1081  No internet service  No internet service  Two year               No   \n",
       "1338                  Yes                   No  Two year               No   \n",
       "3323  No internet service  No internet service  Two year               No   \n",
       "3817  No internet service  No internet service  Two year               No   \n",
       "4370  No internet service  No internet service  Two year               No   \n",
       "5207  No internet service  No internet service  One year              Yes   \n",
       "6652                  Yes                   No  Two year               No   \n",
       "6735                   No                   No  Two year              Yes   \n",
       "\n",
       "                  PaymentMethod  MonthlyCharges TotalCharges Churn  \n",
       "488   Bank transfer (automatic)           52.55                 No  \n",
       "753                Mailed check           20.25                 No  \n",
       "936                Mailed check           80.85                 No  \n",
       "1081               Mailed check           25.75                 No  \n",
       "1338    Credit card (automatic)           56.05                 No  \n",
       "3323               Mailed check           19.85                 No  \n",
       "3817               Mailed check           25.35                 No  \n",
       "4370               Mailed check           20.00                 No  \n",
       "5207               Mailed check           19.70                 No  \n",
       "6652               Mailed check           73.35                 No  \n",
       "6735  Bank transfer (automatic)           61.90                 No  "
      ]
     },
     "execution_count": 19,
     "metadata": {},
     "output_type": "execute_result"
    }
   ],
   "source": [
    "data[data['TotalCharges'] ==' ']"
   ]
  },
  {
   "cell_type": "code",
   "execution_count": 20,
   "id": "3679a9e5-3018-4765-ad41-a36e8aa358e1",
   "metadata": {},
   "outputs": [],
   "source": [
    "n = 0\n",
    "for i in data['TotalCharges']:\n",
    "    \n",
    "    if i == ' ':\n",
    "        data.drop(n, inplace = True)\n",
    "    n+=1"
   ]
  },
  {
   "cell_type": "code",
   "execution_count": 21,
   "id": "73035a24-6c96-4b75-9e58-7b29402568a4",
   "metadata": {},
   "outputs": [
    {
     "data": {
      "text/html": [
       "<div>\n",
       "<style scoped>\n",
       "    .dataframe tbody tr th:only-of-type {\n",
       "        vertical-align: middle;\n",
       "    }\n",
       "\n",
       "    .dataframe tbody tr th {\n",
       "        vertical-align: top;\n",
       "    }\n",
       "\n",
       "    .dataframe thead th {\n",
       "        text-align: right;\n",
       "    }\n",
       "</style>\n",
       "<table border=\"1\" class=\"dataframe\">\n",
       "  <thead>\n",
       "    <tr style=\"text-align: right;\">\n",
       "      <th></th>\n",
       "      <th>gender</th>\n",
       "      <th>SeniorCitizen</th>\n",
       "      <th>Partner</th>\n",
       "      <th>Dependents</th>\n",
       "      <th>tenure</th>\n",
       "      <th>PhoneService</th>\n",
       "      <th>MultipleLines</th>\n",
       "      <th>InternetService</th>\n",
       "      <th>OnlineSecurity</th>\n",
       "      <th>OnlineBackup</th>\n",
       "      <th>DeviceProtection</th>\n",
       "      <th>TechSupport</th>\n",
       "      <th>StreamingTV</th>\n",
       "      <th>StreamingMovies</th>\n",
       "      <th>Contract</th>\n",
       "      <th>PaperlessBilling</th>\n",
       "      <th>PaymentMethod</th>\n",
       "      <th>MonthlyCharges</th>\n",
       "      <th>TotalCharges</th>\n",
       "      <th>Churn</th>\n",
       "    </tr>\n",
       "  </thead>\n",
       "  <tbody>\n",
       "  </tbody>\n",
       "</table>\n",
       "</div>"
      ],
      "text/plain": [
       "Empty DataFrame\n",
       "Columns: [gender, SeniorCitizen, Partner, Dependents, tenure, PhoneService, MultipleLines, InternetService, OnlineSecurity, OnlineBackup, DeviceProtection, TechSupport, StreamingTV, StreamingMovies, Contract, PaperlessBilling, PaymentMethod, MonthlyCharges, TotalCharges, Churn]\n",
       "Index: []"
      ]
     },
     "execution_count": 21,
     "metadata": {},
     "output_type": "execute_result"
    }
   ],
   "source": [
    "data[data['TotalCharges'] == ' ']"
   ]
  },
  {
   "cell_type": "code",
   "execution_count": 22,
   "id": "e3bedd50-cbdc-4d91-b286-c645f139f45c",
   "metadata": {},
   "outputs": [
    {
     "data": {
      "text/plain": [
       "(7010, 20)"
      ]
     },
     "execution_count": 22,
     "metadata": {},
     "output_type": "execute_result"
    }
   ],
   "source": [
    "data.shape"
   ]
  },
  {
   "cell_type": "code",
   "execution_count": 23,
   "id": "eff3691b-efd9-4b81-894a-589c3454c3a0",
   "metadata": {},
   "outputs": [
    {
     "name": "stdout",
     "output_type": "stream",
     "text": [
      "<class 'pandas.core.frame.DataFrame'>\n",
      "Index: 7010 entries, 0 to 7020\n",
      "Data columns (total 20 columns):\n",
      " #   Column            Non-Null Count  Dtype  \n",
      "---  ------            --------------  -----  \n",
      " 0   gender            7010 non-null   object \n",
      " 1   SeniorCitizen     7010 non-null   int64  \n",
      " 2   Partner           7010 non-null   object \n",
      " 3   Dependents        7010 non-null   object \n",
      " 4   tenure            7010 non-null   int64  \n",
      " 5   PhoneService      7010 non-null   object \n",
      " 6   MultipleLines     7010 non-null   object \n",
      " 7   InternetService   7010 non-null   object \n",
      " 8   OnlineSecurity    7010 non-null   object \n",
      " 9   OnlineBackup      7010 non-null   object \n",
      " 10  DeviceProtection  7010 non-null   object \n",
      " 11  TechSupport       7010 non-null   object \n",
      " 12  StreamingTV       7010 non-null   object \n",
      " 13  StreamingMovies   7010 non-null   object \n",
      " 14  Contract          7010 non-null   object \n",
      " 15  PaperlessBilling  7010 non-null   object \n",
      " 16  PaymentMethod     7010 non-null   object \n",
      " 17  MonthlyCharges    7010 non-null   float64\n",
      " 18  TotalCharges      7010 non-null   object \n",
      " 19  Churn             7010 non-null   object \n",
      "dtypes: float64(1), int64(2), object(17)\n",
      "memory usage: 1.1+ MB\n"
     ]
    }
   ],
   "source": [
    "data.info()"
   ]
  },
  {
   "cell_type": "code",
   "execution_count": 24,
   "id": "7e23cd74-ce77-434a-be3c-2d5c2a840852",
   "metadata": {},
   "outputs": [],
   "source": [
    "data.reset_index(inplace = True)"
   ]
  },
  {
   "cell_type": "code",
   "execution_count": 25,
   "id": "6eb1df1b-0916-4ec2-8697-b20ded226776",
   "metadata": {},
   "outputs": [],
   "source": [
    "data.drop('index', axis = 1 ,inplace = True)"
   ]
  },
  {
   "cell_type": "code",
   "execution_count": 26,
   "id": "6dc47f97-fc3c-4c1c-8203-bfc95efdec3e",
   "metadata": {},
   "outputs": [],
   "source": [
    "data['TotalCharges'] = data['TotalCharges'].astype(float)"
   ]
  },
  {
   "cell_type": "code",
   "execution_count": 27,
   "id": "ac68b111-221b-48a0-af0d-f448e0c4a327",
   "metadata": {},
   "outputs": [
    {
     "name": "stdout",
     "output_type": "stream",
     "text": [
      "<class 'pandas.core.frame.DataFrame'>\n",
      "RangeIndex: 7010 entries, 0 to 7009\n",
      "Data columns (total 20 columns):\n",
      " #   Column            Non-Null Count  Dtype  \n",
      "---  ------            --------------  -----  \n",
      " 0   gender            7010 non-null   object \n",
      " 1   SeniorCitizen     7010 non-null   int64  \n",
      " 2   Partner           7010 non-null   object \n",
      " 3   Dependents        7010 non-null   object \n",
      " 4   tenure            7010 non-null   int64  \n",
      " 5   PhoneService      7010 non-null   object \n",
      " 6   MultipleLines     7010 non-null   object \n",
      " 7   InternetService   7010 non-null   object \n",
      " 8   OnlineSecurity    7010 non-null   object \n",
      " 9   OnlineBackup      7010 non-null   object \n",
      " 10  DeviceProtection  7010 non-null   object \n",
      " 11  TechSupport       7010 non-null   object \n",
      " 12  StreamingTV       7010 non-null   object \n",
      " 13  StreamingMovies   7010 non-null   object \n",
      " 14  Contract          7010 non-null   object \n",
      " 15  PaperlessBilling  7010 non-null   object \n",
      " 16  PaymentMethod     7010 non-null   object \n",
      " 17  MonthlyCharges    7010 non-null   float64\n",
      " 18  TotalCharges      7010 non-null   float64\n",
      " 19  Churn             7010 non-null   object \n",
      "dtypes: float64(2), int64(2), object(16)\n",
      "memory usage: 1.1+ MB\n"
     ]
    }
   ],
   "source": [
    "data.info()"
   ]
  },
  {
   "cell_type": "code",
   "execution_count": 28,
   "id": "128d2404-f7d0-40ad-8e9e-1357e0871c6b",
   "metadata": {},
   "outputs": [],
   "source": [
    "n = 0\n",
    "for i in data['OnlineSecurity']:\n",
    "\n",
    "    if i == 'No internet service':\n",
    "        data['OnlineSecurity'].iloc[n] = 'No'\n",
    "\n",
    "    n+=1\n",
    "\n",
    "######################################################################\n",
    "n = 0\n",
    "for i in data['OnlineBackup']:\n",
    "\n",
    "    if i == 'No internet service':\n",
    "        data['OnlineBackup'].iloc[n] = 'No'\n",
    "\n",
    "    n+=1\n",
    "\n",
    "######################################################################\n",
    "n = 0\n",
    "for i in data['DeviceProtection']:\n",
    "\n",
    "    if i == 'No internet service':\n",
    "        data['DeviceProtection'].iloc[n] = 'No'\n",
    "\n",
    "    n+=1\n",
    "\n",
    "######################################################################\n",
    "n = 0\n",
    "for i in data['TechSupport']:\n",
    "\n",
    "    if i == 'No internet service':\n",
    "        data['TechSupport'].iloc[n] = 'No'\n",
    "\n",
    "    n+=1\n",
    "\n",
    "######################################################################\n",
    "n = 0\n",
    "for i in data['StreamingMovies']:\n",
    "\n",
    "    if i == 'No internet service':\n",
    "        data['StreamingMovies'].iloc[n] = 'No'\n",
    "\n",
    "    n+=1\n",
    "\n",
    "######################################################################\n",
    "n = 0\n",
    "for i in data['StreamingTV']:\n",
    "\n",
    "    if i == 'No internet service':\n",
    "        data['StreamingTV'].iloc[n] = 'No'\n",
    "\n",
    "    n+=1"
   ]
  },
  {
   "cell_type": "code",
   "execution_count": 29,
   "id": "38a8a21d-1fa1-4984-9051-d20a764a6cc7",
   "metadata": {},
   "outputs": [],
   "source": [
    "for i in range(len(data)):\n",
    "\n",
    "    if data['MonthlyCharges'].iloc[i] > data['TotalCharges'].loc[i]:\n",
    "        \n",
    "        data.drop(i, inplace = True)"
   ]
  },
  {
   "cell_type": "code",
   "execution_count": 30,
   "id": "79167d70-2cd3-4697-bce0-fbe8e73e1e65",
   "metadata": {},
   "outputs": [
    {
     "name": "stdout",
     "output_type": "stream",
     "text": [
      "<class 'pandas.core.frame.DataFrame'>\n",
      "RangeIndex: 7010 entries, 0 to 7009\n",
      "Data columns (total 20 columns):\n",
      " #   Column            Non-Null Count  Dtype  \n",
      "---  ------            --------------  -----  \n",
      " 0   gender            7010 non-null   object \n",
      " 1   SeniorCitizen     7010 non-null   int64  \n",
      " 2   Partner           7010 non-null   object \n",
      " 3   Dependents        7010 non-null   object \n",
      " 4   tenure            7010 non-null   int64  \n",
      " 5   PhoneService      7010 non-null   object \n",
      " 6   MultipleLines     7010 non-null   object \n",
      " 7   InternetService   7010 non-null   object \n",
      " 8   OnlineSecurity    7010 non-null   object \n",
      " 9   OnlineBackup      7010 non-null   object \n",
      " 10  DeviceProtection  7010 non-null   object \n",
      " 11  TechSupport       7010 non-null   object \n",
      " 12  StreamingTV       7010 non-null   object \n",
      " 13  StreamingMovies   7010 non-null   object \n",
      " 14  Contract          7010 non-null   object \n",
      " 15  PaperlessBilling  7010 non-null   object \n",
      " 16  PaymentMethod     7010 non-null   object \n",
      " 17  MonthlyCharges    7010 non-null   float64\n",
      " 18  TotalCharges      7010 non-null   float64\n",
      " 19  Churn             7010 non-null   object \n",
      "dtypes: float64(2), int64(2), object(16)\n",
      "memory usage: 1.1+ MB\n"
     ]
    }
   ],
   "source": [
    "data.info()"
   ]
  },
  {
   "cell_type": "code",
   "execution_count": 31,
   "id": "8cd08262-a853-4f1b-8f53-fe89b1de0d9c",
   "metadata": {},
   "outputs": [],
   "source": [
    "for i in range(len(data)):\n",
    "\n",
    "    if data['PhoneService'].iloc[i] == \"No\" and data['MultipleLines'].iloc[i] != \"No phone service\":\n",
    "\n",
    "        data['MultipleLines'].iloc[i] = \"No phone service\"\n",
    "        "
   ]
  },
  {
   "cell_type": "code",
   "execution_count": 32,
   "id": "b17bf0ea-99b6-4a63-bd63-44b04c9b99bd",
   "metadata": {},
   "outputs": [
    {
     "name": "stdout",
     "output_type": "stream",
     "text": [
      "\n",
      "*********************** gender ******************************\n"
     ]
    },
    {
     "data": {
      "text/plain": [
       "gender\n",
       "Male      3535\n",
       "Female    3475\n",
       "Name: count, dtype: int64"
      ]
     },
     "metadata": {},
     "output_type": "display_data"
    },
    {
     "name": "stdout",
     "output_type": "stream",
     "text": [
      "*****************************************************\n",
      "\n",
      "*********************** SeniorCitizen ******************************\n"
     ]
    },
    {
     "data": {
      "text/plain": [
       "SeniorCitizen\n",
       "0    5869\n",
       "1    1141\n",
       "Name: count, dtype: int64"
      ]
     },
     "metadata": {},
     "output_type": "display_data"
    },
    {
     "name": "stdout",
     "output_type": "stream",
     "text": [
      "*****************************************************\n",
      "\n",
      "*********************** Partner ******************************\n"
     ]
    },
    {
     "data": {
      "text/plain": [
       "Partner\n",
       "No     3617\n",
       "Yes    3393\n",
       "Name: count, dtype: int64"
      ]
     },
     "metadata": {},
     "output_type": "display_data"
    },
    {
     "name": "stdout",
     "output_type": "stream",
     "text": [
      "*****************************************************\n",
      "\n",
      "*********************** Dependents ******************************\n"
     ]
    },
    {
     "data": {
      "text/plain": [
       "Dependents\n",
       "No     4911\n",
       "Yes    2099\n",
       "Name: count, dtype: int64"
      ]
     },
     "metadata": {},
     "output_type": "display_data"
    },
    {
     "name": "stdout",
     "output_type": "stream",
     "text": [
      "*****************************************************\n",
      "\n",
      "*********************** tenure ******************************\n"
     ]
    },
    {
     "data": {
      "text/plain": [
       "tenure\n",
       "1     591\n",
       "72    362\n",
       "2     238\n",
       "3     200\n",
       "4     176\n",
       "     ... \n",
       "38     59\n",
       "28     57\n",
       "39     56\n",
       "44     51\n",
       "36     50\n",
       "Name: count, Length: 72, dtype: int64"
      ]
     },
     "metadata": {},
     "output_type": "display_data"
    },
    {
     "name": "stdout",
     "output_type": "stream",
     "text": [
      "*****************************************************\n",
      "\n",
      "*********************** PhoneService ******************************\n"
     ]
    },
    {
     "data": {
      "text/plain": [
       "PhoneService\n",
       "Yes    6330\n",
       "No      680\n",
       "Name: count, dtype: int64"
      ]
     },
     "metadata": {},
     "output_type": "display_data"
    },
    {
     "name": "stdout",
     "output_type": "stream",
     "text": [
      "*****************************************************\n",
      "\n",
      "*********************** MultipleLines ******************************\n"
     ]
    },
    {
     "data": {
      "text/plain": [
       "MultipleLines\n",
       "No                  3363\n",
       "Yes                 2967\n",
       "No phone service     680\n",
       "Name: count, dtype: int64"
      ]
     },
     "metadata": {},
     "output_type": "display_data"
    },
    {
     "name": "stdout",
     "output_type": "stream",
     "text": [
      "*****************************************************\n",
      "\n",
      "*********************** InternetService ******************************\n"
     ]
    },
    {
     "data": {
      "text/plain": [
       "InternetService\n",
       "Fiber optic    3090\n",
       "DSL            2414\n",
       "No             1506\n",
       "Name: count, dtype: int64"
      ]
     },
     "metadata": {},
     "output_type": "display_data"
    },
    {
     "name": "stdout",
     "output_type": "stream",
     "text": [
      "*****************************************************\n",
      "\n",
      "*********************** OnlineSecurity ******************************\n"
     ]
    },
    {
     "data": {
      "text/plain": [
       "OnlineSecurity\n",
       "No     4995\n",
       "Yes    2015\n",
       "Name: count, dtype: int64"
      ]
     },
     "metadata": {},
     "output_type": "display_data"
    },
    {
     "name": "stdout",
     "output_type": "stream",
     "text": [
      "*****************************************************\n",
      "\n",
      "*********************** OnlineBackup ******************************\n"
     ]
    },
    {
     "data": {
      "text/plain": [
       "OnlineBackup\n",
       "No     4585\n",
       "Yes    2425\n",
       "Name: count, dtype: int64"
      ]
     },
     "metadata": {},
     "output_type": "display_data"
    },
    {
     "name": "stdout",
     "output_type": "stream",
     "text": [
      "*****************************************************\n",
      "\n",
      "*********************** DeviceProtection ******************************\n"
     ]
    },
    {
     "data": {
      "text/plain": [
       "DeviceProtection\n",
       "No     4592\n",
       "Yes    2418\n",
       "Name: count, dtype: int64"
      ]
     },
     "metadata": {},
     "output_type": "display_data"
    },
    {
     "name": "stdout",
     "output_type": "stream",
     "text": [
      "*****************************************************\n",
      "\n",
      "*********************** TechSupport ******************************\n"
     ]
    },
    {
     "data": {
      "text/plain": [
       "TechSupport\n",
       "No     4970\n",
       "Yes    2040\n",
       "Name: count, dtype: int64"
      ]
     },
     "metadata": {},
     "output_type": "display_data"
    },
    {
     "name": "stdout",
     "output_type": "stream",
     "text": [
      "*****************************************************\n",
      "\n",
      "*********************** StreamingTV ******************************\n"
     ]
    },
    {
     "data": {
      "text/plain": [
       "StreamingTV\n",
       "No     4307\n",
       "Yes    2703\n",
       "Name: count, dtype: int64"
      ]
     },
     "metadata": {},
     "output_type": "display_data"
    },
    {
     "name": "stdout",
     "output_type": "stream",
     "text": [
      "*****************************************************\n",
      "\n",
      "*********************** StreamingMovies ******************************\n"
     ]
    },
    {
     "data": {
      "text/plain": [
       "StreamingMovies\n",
       "No     4279\n",
       "Yes    2731\n",
       "Name: count, dtype: int64"
      ]
     },
     "metadata": {},
     "output_type": "display_data"
    },
    {
     "name": "stdout",
     "output_type": "stream",
     "text": [
      "*****************************************************\n",
      "\n",
      "*********************** Contract ******************************\n"
     ]
    },
    {
     "data": {
      "text/plain": [
       "Contract\n",
       "Month-to-month    3853\n",
       "Two year          1685\n",
       "One year          1472\n",
       "Name: count, dtype: int64"
      ]
     },
     "metadata": {},
     "output_type": "display_data"
    },
    {
     "name": "stdout",
     "output_type": "stream",
     "text": [
      "*****************************************************\n",
      "\n",
      "*********************** PaperlessBilling ******************************\n"
     ]
    },
    {
     "data": {
      "text/plain": [
       "PaperlessBilling\n",
       "Yes    4158\n",
       "No     2852\n",
       "Name: count, dtype: int64"
      ]
     },
     "metadata": {},
     "output_type": "display_data"
    },
    {
     "name": "stdout",
     "output_type": "stream",
     "text": [
      "*****************************************************\n",
      "\n",
      "*********************** PaymentMethod ******************************\n"
     ]
    },
    {
     "data": {
      "text/plain": [
       "PaymentMethod\n",
       "Electronic check             2359\n",
       "Mailed check                 1588\n",
       "Bank transfer (automatic)    1542\n",
       "Credit card (automatic)      1521\n",
       "Name: count, dtype: int64"
      ]
     },
     "metadata": {},
     "output_type": "display_data"
    },
    {
     "name": "stdout",
     "output_type": "stream",
     "text": [
      "*****************************************************\n",
      "\n",
      "*********************** MonthlyCharges ******************************\n"
     ]
    },
    {
     "data": {
      "text/plain": [
       "MonthlyCharges\n",
       "20.05     59\n",
       "19.85     44\n",
       "19.95     44\n",
       "19.90     43\n",
       "19.65     42\n",
       "          ..\n",
       "23.65      1\n",
       "114.70     1\n",
       "43.65      1\n",
       "87.80      1\n",
       "78.70      1\n",
       "Name: count, Length: 1584, dtype: int64"
      ]
     },
     "metadata": {},
     "output_type": "display_data"
    },
    {
     "name": "stdout",
     "output_type": "stream",
     "text": [
      "*****************************************************\n",
      "\n",
      "*********************** TotalCharges ******************************\n"
     ]
    },
    {
     "data": {
      "text/plain": [
       "TotalCharges\n",
       "19.75      9\n",
       "20.20      8\n",
       "19.90      7\n",
       "19.65      7\n",
       "20.05      6\n",
       "          ..\n",
       "6849.40    1\n",
       "692.35     1\n",
       "130.15     1\n",
       "3211.90    1\n",
       "6844.50    1\n",
       "Name: count, Length: 6530, dtype: int64"
      ]
     },
     "metadata": {},
     "output_type": "display_data"
    },
    {
     "name": "stdout",
     "output_type": "stream",
     "text": [
      "*****************************************************\n",
      "\n",
      "*********************** Churn ******************************\n"
     ]
    },
    {
     "data": {
      "text/plain": [
       "Churn\n",
       "No     5153\n",
       "Yes    1857\n",
       "Name: count, dtype: int64"
      ]
     },
     "metadata": {},
     "output_type": "display_data"
    },
    {
     "name": "stdout",
     "output_type": "stream",
     "text": [
      "*****************************************************\n"
     ]
    }
   ],
   "source": [
    "for i in data:\n",
    "    print(f\"\\n*********************** {i} ******************************\")\n",
    "    \n",
    "    display(data[i].value_counts())\n",
    "    \n",
    "    print(\"*****************************************************\")\n"
   ]
  },
  {
   "cell_type": "markdown",
   "id": "7cb80f1a-eda3-4abd-a960-ae0a1ea51c67",
   "metadata": {},
   "source": [
    "*****************************************"
   ]
  },
  {
   "cell_type": "markdown",
   "id": "0889a4bf-e652-4496-be35-92ea4df596b7",
   "metadata": {},
   "source": [
    "# EDA"
   ]
  },
  {
   "cell_type": "code",
   "execution_count": 33,
   "id": "dedfe490-c076-4df1-850f-79d27bec7215",
   "metadata": {},
   "outputs": [
    {
     "data": {
      "image/png": "[encoded data removed]",
      "text/plain": [
       "<Figure size 640x480 with 1 Axes>"
      ]
     },
     "metadata": {},
     "output_type": "display_data"
    },
    {
     "data": {
      "image/png": "[encoded data removed]",
      "text/plain": [
       "<Figure size 640x480 with 1 Axes>"
      ]
     },
     "metadata": {},
     "output_type": "display_data"
    },
    {
     "data": {
      "image/png": "[encoded data removed]",
      "text/plain": [
       "<Figure size 640x480 with 1 Axes>"
      ]
     },
     "metadata": {},
     "output_type": "display_data"
    },
    {
     "data": {
      "image/png": "[encoded data removed]",
      "text/plain": [
       "<Figure size 640x480 with 1 Axes>"
      ]
     },
     "metadata": {},
     "output_type": "display_data"
    },
    {
     "data": {
      "image/png": "[encoded data removed]",
      "text/plain": [
       "<Figure size 640x480 with 1 Axes>"
      ]
     },
     "metadata": {},
     "output_type": "display_data"
    },
    {
     "data": {
      "image/png": "[encoded data removed]",
      "text/plain": [
       "<Figure size 640x480 with 1 Axes>"
      ]
     },
     "metadata": {},
     "output_type": "display_data"
    },
    {
     "data": {
      "image/png": "[encoded data removed]",
      "text/plain": [
       "<Figure size 640x480 with 1 Axes>"
      ]
     },
     "metadata": {},
     "output_type": "display_data"
    },
    {
     "data": {
      "image/png": "[encoded data removed]",
      "text/plain": [
       "<Figure size 640x480 with 1 Axes>"
      ]
     },
     "metadata": {},
     "output_type": "display_data"
    },
    {
     "data": {
      "image/png": "[encoded data removed]",
      "text/plain": [
       "<Figure size 640x480 with 1 Axes>"
      ]
     },
     "metadata": {},
     "output_type": "display_data"
    },
    {
     "data": {
      "image/png": "[encoded data removed]",
      "text/plain": [
       "<Figure size 640x480 with 1 Axes>"
      ]
     },
     "metadata": {},
     "output_type": "display_data"
    },
    {
     "data": {
      "image/png": "[encoded data removed]",
      "text/plain": [
       "<Figure size 640x480 with 1 Axes>"
      ]
     },
     "metadata": {},
     "output_type": "display_data"
    },
    {
     "data": {
      "image/png": "[encoded data removed]",
      "text/plain": [
       "<Figure size 640x480 with 1 Axes>"
      ]
     },
     "metadata": {},
     "output_type": "display_data"
    },
    {
     "data": {
      "image/png": "[encoded data removed]",
      "text/plain": [
       "<Figure size 640x480 with 1 Axes>"
      ]
     },
     "metadata": {},
     "output_type": "display_data"
    },
    {
     "data": {
      "image/png": "[encoded data removed]",
      "text/plain": [
       "<Figure size 640x480 with 1 Axes>"
      ]
     },
     "metadata": {},
     "output_type": "display_data"
    },
    {
     "data": {
      "image/png": "[encoded data removed]",
      "text/plain": [
       "<Figure size 640x480 with 1 Axes>"
      ]
     },
     "metadata": {},
     "output_type": "display_data"
    },
    {
     "data": {
      "image/png": "[encoded data removed]",
      "text/plain": [
       "<Figure size 640x480 with 1 Axes>"
      ]
     },
     "metadata": {},
     "output_type": "display_data"
    },
    {
     "data": {
      "image/png": "[encoded data removed]",
      "text/plain": [
       "<Figure size 640x480 with 1 Axes>"
      ]
     },
     "metadata": {},
     "output_type": "display_data"
    },
    {
     "data": {
      "image/png": "[encoded data removed]",
      "text/plain": [
       "<Figure size 640x480 with 1 Axes>"
      ]
     },
     "metadata": {},
     "output_type": "display_data"
    },
    {
     "data": {
      "image/png": "[encoded data removed]",
      "text/plain": [
       "<Figure size 640x480 with 1 Axes>"
      ]
     },
     "metadata": {},
     "output_type": "display_data"
    },
    {
     "data": {
      "image/png": "[encoded data removed]",
      "text/plain": [
       "<Figure size 640x480 with 1 Axes>"
      ]
     },
     "metadata": {},
     "output_type": "display_data"
    }
   ],
   "source": [
    "for i in data:\n",
    "    sns.boxplot(data[i])\n",
    "    plt.show()"
   ]
  },
  {
   "cell_type": "code",
   "execution_count": 34,
   "id": "c100f4b5-650f-442f-a58e-48b5e45413f1",
   "metadata": {},
   "outputs": [
    {
     "data": {
      "image/png": "[encoded data removed]",
      "text/plain": [
       "<Figure size 640x480 with 2 Axes>"
      ]
     },
     "metadata": {},
     "output_type": "display_data"
    }
   ],
   "source": [
    "colors = ['cyan', 'pink']\n",
    "keys = ['Male', 'Female']\n",
    "\n",
    "\n",
    "plt.subplot(1, 2, 1)\n",
    "plt.pie(data['gender'].value_counts(), labels=keys, autopct='%.0f%%', colors = colors)\n",
    "plt.title('Gender')\n",
    "\n",
    "plt.subplot(1, 2, 2)\n",
    "sns.countplot(x = 'gender', hue ='Churn', data = data, palette = colors)\n",
    "\n",
    "\n",
    "plt.subplots_adjust(wspace=0.5)\n",
    "\n",
    "plt.show()\n",
    "\n"
   ]
  },
  {
   "cell_type": "code",
   "execution_count": 35,
   "id": "81378c21-2324-4dfc-a466-668880802e7e",
   "metadata": {},
   "outputs": [
    {
     "data": {
      "image/png": "[encoded data removed]",
      "text/plain": [
       "<Figure size 640x480 with 1 Axes>"
      ]
     },
     "metadata": {},
     "output_type": "display_data"
    }
   ],
   "source": [
    "keys = ['Fiber optic', 'DSL', 'No']\n",
    "colors = ['#0B60B0', '#40A2D8', '#F0EDCF']\n",
    "plt.pie(data['InternetService'].value_counts(), labels=keys, colors = colors , autopct='%.0f%%')\n",
    "plt.title('Type of internet service')\n",
    "plt.show()"
   ]
  },
  {
   "cell_type": "code",
   "execution_count": 36,
   "id": "85c2063f-63f5-4d38-8aa1-94b7470b4eb9",
   "metadata": {},
   "outputs": [
    {
     "data": {
      "image/png": "[encoded data removed]",
      "text/plain": [
       "<Figure size 640x480 with 1 Axes>"
      ]
     },
     "metadata": {},
     "output_type": "display_data"
    }
   ],
   "source": [
    "keys = ['Month-to-month', 'Two year', 'One year']\n",
    "colors = ['#8ACDD7', '#F9F9E0', '#FFC0D9']\n",
    "plt.pie(data['Contract'].value_counts(), labels=keys, colors = colors , autopct='%.0f%%')\n",
    "plt.title('Type of contract')\n",
    "plt.show()"
   ]
  },
  {
   "cell_type": "code",
   "execution_count": 37,
   "id": "3abaea51-b28e-4f0f-b4dd-b8bfeac9e3a2",
   "metadata": {},
   "outputs": [
    {
     "data": {
      "image/png": "[encoded data removed]",
      "text/plain": [
       "<Figure size 640x480 with 1 Axes>"
      ]
     },
     "metadata": {},
     "output_type": "display_data"
    }
   ],
   "source": [
    "keys = ['Electronic check', 'Mailed check', 'Bank transfer (automatic)', 'Credit card (automatic)']\n",
    "colors = ['#FFF5C2', '#F4F27E', '#6DB9EF', '#3081D0']\n",
    "plt.pie(data['PaymentMethod'].value_counts(), labels=keys, colors = colors , autopct='%.0f%%')\n",
    "plt.title('Type of Payment Method')\n",
    "plt.show()"
   ]
  },
  {
   "cell_type": "code",
   "execution_count": 38,
   "id": "5b20662d-0a2c-401f-b3dc-1d50975f08b4",
   "metadata": {},
   "outputs": [
    {
     "data": {
      "image/png": "[encoded data removed]",
      "text/plain": [
       "<Figure size 640x480 with 1 Axes>"
      ]
     },
     "metadata": {},
     "output_type": "display_data"
    }
   ],
   "source": [
    "sns.histplot(x = 'SeniorCitizen', kde = True, data = data)\n",
    "\n",
    "plt.title('Whether the customer is a senior citizen')\n",
    "\n",
    "plt.show()"
   ]
  },
  {
   "cell_type": "code",
   "execution_count": 39,
   "id": "86836fa1-7b36-4569-a529-2fca48b562a0",
   "metadata": {},
   "outputs": [
    {
     "data": {
      "image/png": "[encoded data removed]",
      "text/plain": [
       "<Figure size 640x480 with 1 Axes>"
      ]
     },
     "metadata": {},
     "output_type": "display_data"
    }
   ],
   "source": [
    "sns.histplot(x = 'tenure', kde = True, data = data)\n",
    "\n",
    "plt.title('Number of months the customer has stayed with the company')\n",
    "\n",
    "plt.show()"
   ]
  },
  {
   "cell_type": "code",
   "execution_count": 40,
   "id": "2c5ca1aa-86b0-48a9-b0ae-d6db41d1aec2",
   "metadata": {},
   "outputs": [
    {
     "data": {
      "image/png": "[encoded data removed]",
      "text/plain": [
       "<Figure size 640x480 with 1 Axes>"
      ]
     },
     "metadata": {},
     "output_type": "display_data"
    }
   ],
   "source": [
    "sns.histplot(x = 'MonthlyCharges', kde = True, data = data)\n",
    "\n",
    "plt.title('Monthly charges')\n",
    "\n",
    "plt.show()"
   ]
  },
  {
   "cell_type": "code",
   "execution_count": 41,
   "id": "78d23cff-791e-4ecf-8fb5-49f82f273064",
   "metadata": {},
   "outputs": [
    {
     "data": {
      "image/png": "[encoded data removed]",
      "text/plain": [
       "<Figure size 640x480 with 1 Axes>"
      ]
     },
     "metadata": {},
     "output_type": "display_data"
    }
   ],
   "source": [
    "sns.histplot(x = 'TotalCharges', kde = True, data = data)\n",
    "\n",
    "plt.title('Total charges')\n",
    "\n",
    "plt.show()"
   ]
  },
  {
   "cell_type": "code",
   "execution_count": 42,
   "id": "c20dab8b-4014-44cd-8e04-c9a4af0ed5a2",
   "metadata": {},
   "outputs": [
    {
     "data": {
      "image/png": "[encoded data removed]",
      "text/plain": [
       "<Figure size 640x480 with 1 Axes>"
      ]
     },
     "metadata": {},
     "output_type": "display_data"
    }
   ],
   "source": [
    "keys = ['No', 'Yes']\n",
    "colors = ['#4CB9E7', '#FFECD6']\n",
    "plt.pie(data['Churn'].value_counts(), labels=keys, autopct='%.0f%%', colors = colors)\n",
    "plt.title('Churn')\n",
    "plt.show()"
   ]
  },
  {
   "cell_type": "markdown",
   "id": "989580c5-f107-44fd-ab29-01c8604881c9",
   "metadata": {},
   "source": [
    "************************************************************************"
   ]
  },
  {
   "cell_type": "markdown",
   "id": "61c54962-99de-4203-9a72-71fa5adc2637",
   "metadata": {},
   "source": [
    "### Data preprocessing and Building model"
   ]
  },
  {
   "cell_type": "code",
   "execution_count": 43,
   "id": "20d2876b-c03c-457b-9410-1dd3f66bf66e",
   "metadata": {},
   "outputs": [],
   "source": [
    "X = data.drop('Churn', axis = 1)\n",
    "y = data['Churn']"
   ]
  },
  {
   "cell_type": "code",
   "execution_count": 44,
   "id": "5b23287a-16a3-4ec7-abbb-cc9391243058",
   "metadata": {},
   "outputs": [],
   "source": [
    "from sklearn.model_selection import train_test_split\n",
    "\n",
    "X_train, X_test, y_train, y_test = train_test_split(X, y, test_size =0.2, random_state=0)"
   ]
  },
  {
   "cell_type": "code",
   "execution_count": 45,
   "id": "ae480644-c637-433e-9626-5f369502d4e4",
   "metadata": {},
   "outputs": [
    {
     "data": {
      "text/html": [
       "<div>\n",
       "<style scoped>\n",
       "    .dataframe tbody tr th:only-of-type {\n",
       "        vertical-align: middle;\n",
       "    }\n",
       "\n",
       "    .dataframe tbody tr th {\n",
       "        vertical-align: top;\n",
       "    }\n",
       "\n",
       "    .dataframe thead th {\n",
       "        text-align: right;\n",
       "    }\n",
       "</style>\n",
       "<table border=\"1\" class=\"dataframe\">\n",
       "  <thead>\n",
       "    <tr style=\"text-align: right;\">\n",
       "      <th></th>\n",
       "      <th>gender</th>\n",
       "      <th>SeniorCitizen</th>\n",
       "      <th>Partner</th>\n",
       "      <th>Dependents</th>\n",
       "      <th>tenure</th>\n",
       "      <th>PhoneService</th>\n",
       "      <th>MultipleLines</th>\n",
       "      <th>InternetService</th>\n",
       "      <th>OnlineSecurity</th>\n",
       "      <th>OnlineBackup</th>\n",
       "      <th>DeviceProtection</th>\n",
       "      <th>TechSupport</th>\n",
       "      <th>StreamingTV</th>\n",
       "      <th>StreamingMovies</th>\n",
       "      <th>Contract</th>\n",
       "      <th>PaperlessBilling</th>\n",
       "      <th>PaymentMethod</th>\n",
       "      <th>MonthlyCharges</th>\n",
       "      <th>TotalCharges</th>\n",
       "    </tr>\n",
       "  </thead>\n",
       "  <tbody>\n",
       "    <tr>\n",
       "      <th>1246</th>\n",
       "      <td>Female</td>\n",
       "      <td>0</td>\n",
       "      <td>No</td>\n",
       "      <td>No</td>\n",
       "      <td>1</td>\n",
       "      <td>Yes</td>\n",
       "      <td>No</td>\n",
       "      <td>Fiber optic</td>\n",
       "      <td>No</td>\n",
       "      <td>Yes</td>\n",
       "      <td>No</td>\n",
       "      <td>No</td>\n",
       "      <td>No</td>\n",
       "      <td>No</td>\n",
       "      <td>Month-to-month</td>\n",
       "      <td>No</td>\n",
       "      <td>Electronic check</td>\n",
       "      <td>75.80</td>\n",
       "      <td>75.80</td>\n",
       "    </tr>\n",
       "    <tr>\n",
       "      <th>675</th>\n",
       "      <td>Female</td>\n",
       "      <td>0</td>\n",
       "      <td>No</td>\n",
       "      <td>No</td>\n",
       "      <td>48</td>\n",
       "      <td>Yes</td>\n",
       "      <td>Yes</td>\n",
       "      <td>No</td>\n",
       "      <td>No</td>\n",
       "      <td>No</td>\n",
       "      <td>No</td>\n",
       "      <td>No</td>\n",
       "      <td>No</td>\n",
       "      <td>No</td>\n",
       "      <td>One year</td>\n",
       "      <td>No</td>\n",
       "      <td>Bank transfer (automatic)</td>\n",
       "      <td>24.55</td>\n",
       "      <td>1203.95</td>\n",
       "    </tr>\n",
       "    <tr>\n",
       "      <th>381</th>\n",
       "      <td>Male</td>\n",
       "      <td>0</td>\n",
       "      <td>No</td>\n",
       "      <td>No</td>\n",
       "      <td>1</td>\n",
       "      <td>Yes</td>\n",
       "      <td>No</td>\n",
       "      <td>DSL</td>\n",
       "      <td>No</td>\n",
       "      <td>Yes</td>\n",
       "      <td>No</td>\n",
       "      <td>No</td>\n",
       "      <td>No</td>\n",
       "      <td>No</td>\n",
       "      <td>Month-to-month</td>\n",
       "      <td>No</td>\n",
       "      <td>Mailed check</td>\n",
       "      <td>50.65</td>\n",
       "      <td>50.65</td>\n",
       "    </tr>\n",
       "  </tbody>\n",
       "</table>\n",
       "</div>"
      ],
      "text/plain": [
       "      gender  SeniorCitizen Partner Dependents  tenure PhoneService   \n",
       "1246  Female              0      No         No       1          Yes  \\\n",
       "675   Female              0      No         No      48          Yes   \n",
       "381     Male              0      No         No       1          Yes   \n",
       "\n",
       "     MultipleLines InternetService OnlineSecurity OnlineBackup   \n",
       "1246            No     Fiber optic             No          Yes  \\\n",
       "675            Yes              No             No           No   \n",
       "381             No             DSL             No          Yes   \n",
       "\n",
       "     DeviceProtection TechSupport StreamingTV StreamingMovies        Contract   \n",
       "1246               No          No          No              No  Month-to-month  \\\n",
       "675                No          No          No              No        One year   \n",
       "381                No          No          No              No  Month-to-month   \n",
       "\n",
       "     PaperlessBilling              PaymentMethod  MonthlyCharges  TotalCharges  \n",
       "1246               No           Electronic check           75.80         75.80  \n",
       "675                No  Bank transfer (automatic)           24.55       1203.95  \n",
       "381                No               Mailed check           50.65         50.65  "
      ]
     },
     "execution_count": 45,
     "metadata": {},
     "output_type": "execute_result"
    }
   ],
   "source": [
    "X_train.head(3)"
   ]
  },
  {
   "cell_type": "code",
   "execution_count": 46,
   "id": "96ab3e8b-ac9b-4644-b3b3-66e44e663053",
   "metadata": {},
   "outputs": [
    {
     "data": {
      "text/plain": [
       "1246    Yes\n",
       "675      No\n",
       "381     Yes\n",
       "2303     No\n",
       "6869     No\n",
       "       ... \n",
       "4931    Yes\n",
       "3264    Yes\n",
       "1653     No\n",
       "2607    Yes\n",
       "2732     No\n",
       "Name: Churn, Length: 5608, dtype: object"
      ]
     },
     "execution_count": 46,
     "metadata": {},
     "output_type": "execute_result"
    }
   ],
   "source": [
    "y_train"
   ]
  },
  {
   "cell_type": "code",
   "execution_count": 47,
   "id": "fdc232b1-0a1f-4baa-9ed3-c29804b1b19f",
   "metadata": {},
   "outputs": [],
   "source": [
    "from sklearn.preprocessing import LabelEncoder\n",
    "\n",
    "label_encoder = LabelEncoder()\n",
    "\n",
    "y_train_enc = label_encoder.fit_transform(y_train)\n",
    "y_test_enc = label_encoder.fit_transform(y_test)"
   ]
  },
  {
   "cell_type": "code",
   "execution_count": 48,
   "id": "36d755e0-a7f0-45da-921e-a2a003c75468",
   "metadata": {},
   "outputs": [
    {
     "data": {
      "text/plain": [
       "array([1, 0, 1, ..., 0, 1, 0])"
      ]
     },
     "execution_count": 48,
     "metadata": {},
     "output_type": "execute_result"
    }
   ],
   "source": [
    "y_train_enc"
   ]
  },
  {
   "cell_type": "code",
   "execution_count": 49,
   "id": "f40aff81-193b-432a-ba5a-c72dc9cd55e3",
   "metadata": {},
   "outputs": [],
   "source": [
    "cat_data = ['gender', 'Partner', 'Dependents', 'PhoneService', 'MultipleLines', \n",
    "            'InternetService', 'OnlineSecurity', 'OnlineBackup', 'DeviceProtection', 'TechSupport'\n",
    "            ,'StreamingTV', 'StreamingMovies', 'Contract', 'PaperlessBilling', 'PaymentMethod']"
   ]
  },
  {
   "cell_type": "code",
   "execution_count": 50,
   "id": "bf843009-cd08-4666-946f-485d35745643",
   "metadata": {},
   "outputs": [],
   "source": [
    "num_data = list(X_train.drop(cat_data, axis =1))"
   ]
  },
  {
   "cell_type": "code",
   "execution_count": 51,
   "id": "9c3a9e8d-b42e-4a23-9074-0407c097a4be",
   "metadata": {},
   "outputs": [
    {
     "data": {
      "text/plain": [
       "['SeniorCitizen', 'tenure', 'MonthlyCharges', 'TotalCharges']"
      ]
     },
     "execution_count": 51,
     "metadata": {},
     "output_type": "execute_result"
    }
   ],
   "source": [
    "num_data"
   ]
  },
  {
   "cell_type": "code",
   "execution_count": 52,
   "id": "aaf85e4b-0876-424d-b1fa-9a8816ac3baf",
   "metadata": {},
   "outputs": [
    {
     "name": "stdout",
     "output_type": "stream",
     "text": [
      "['SeniorCitizen', 'tenure', 'MonthlyCharges', 'TotalCharges']\n",
      "****************************************************************************************************\n",
      "['gender', 'Partner', 'Dependents', 'PhoneService', 'MultipleLines', 'InternetService', 'OnlineSecurity', 'OnlineBackup', 'DeviceProtection', 'TechSupport', 'StreamingTV', 'StreamingMovies', 'Contract', 'PaperlessBilling', 'PaymentMethod']\n"
     ]
    }
   ],
   "source": [
    "print(num_data)\n",
    "print(100*\"*\")\n",
    "print(cat_data)"
   ]
  },
  {
   "cell_type": "code",
   "execution_count": 53,
   "id": "a532a77b-74bf-4ddd-a9d1-b6f749ce9949",
   "metadata": {},
   "outputs": [],
   "source": [
    "from sklearn.pipeline import Pipeline\n",
    "from sklearn.impute import SimpleImputer\n",
    "from sklearn.preprocessing import OneHotEncoder\n",
    "from sklearn.preprocessing import StandardScaler\n",
    "from sklearn.compose import ColumnTransformer"
   ]
  },
  {
   "cell_type": "code",
   "execution_count": 54,
   "id": "248e0ff6-5c06-49e0-afdd-e1ccd2ad3262",
   "metadata": {},
   "outputs": [],
   "source": [
    "num_pip = Pipeline([\n",
    "    ('std_scaler', StandardScaler())\n",
    "])"
   ]
  },
  {
   "cell_type": "code",
   "execution_count": 55,
   "id": "07ecdf83-f037-45ef-89ea-b2b776c3eca1",
   "metadata": {},
   "outputs": [],
   "source": [
    "full_pip = ColumnTransformer([\n",
    "    ('num', num_pip, num_data),\n",
    "    ('cat', OneHotEncoder(), cat_data)\n",
    "])"
   ]
  },
  {
   "cell_type": "code",
   "execution_count": 56,
   "id": "8ea714d3-f35e-45de-9b1c-7a10d8b38a13",
   "metadata": {},
   "outputs": [],
   "source": [
    "X_train_p = full_pip.fit_transform(X_train)\n",
    "X_test_p = full_pip.fit_transform(X_test)"
   ]
  },
  {
   "cell_type": "code",
   "execution_count": 57,
   "id": "4818e771-b3a9-4193-951a-d1e25e020930",
   "metadata": {},
   "outputs": [],
   "source": [
    "from sklearn.ensemble import RandomForestClassifier, GradientBoostingClassifier\n",
    "from sklearn.tree import DecisionTreeClassifier\n",
    "import xgboost as xgb\n",
    "\n",
    "\n",
    "dec_tree_pipe = Pipeline([\n",
    "    (\"scaler1\", StandardScaler(with_mean=False)),\n",
    "    (\"DecisionTree\", DecisionTreeClassifier())  \n",
    "])\n",
    "\n",
    "ranfor_pipe = Pipeline([\n",
    "    (\"scalar2\", StandardScaler(with_mean=False)),\n",
    "    (\"RandomForest\", RandomForestClassifier())  \n",
    "])\n",
    "\n",
    "gbr_pipe = Pipeline([\n",
    "    ('scaler3', StandardScaler(with_mean=False)),\n",
    "    ('GradientBoosting', GradientBoostingClassifier())  \n",
    "])\n",
    "\n",
    "xgb_pipe = Pipeline([\n",
    "    ('scaler4', StandardScaler(with_mean=False)),\n",
    "    ('XGBoost', xgb.XGBClassifier())\n",
    "])"
   ]
  },
  {
   "cell_type": "code",
   "execution_count": 58,
   "id": "3860a56a-f3e0-4fb4-8dbc-0edc1f209eeb",
   "metadata": {},
   "outputs": [],
   "source": [
    "models = [dec_tree_pipe, ranfor_pipe, gbr_pipe, xgb_pipe]"
   ]
  },
  {
   "cell_type": "code",
   "execution_count": 59,
   "id": "1ffd765c-1ddf-4b2a-88ac-6f546b75d6da",
   "metadata": {},
   "outputs": [],
   "source": [
    "for model in models:\n",
    "    model.fit(X_train_p, y_train_enc)"
   ]
  },
  {
   "cell_type": "code",
   "execution_count": 60,
   "id": "93d139be-0bf5-43f1-9fa1-f33eab693047",
   "metadata": {},
   "outputs": [],
   "source": [
    "from sklearn.model_selection import cross_val_score\n",
    "from sklearn.metrics import accuracy_score\n",
    "\n",
    "cv_results_accuracy = []\n",
    "\n",
    "\n",
    "for model in models:\n",
    "\n",
    "    cv_scores = cross_val_score(model, X_train_p, y_train_enc, scoring=\"accuracy\", cv=10)\n",
    "    \n",
    "    cv_results_accuracy.append(cv_scores)\n",
    "\n"
   ]
  },
  {
   "cell_type": "code",
   "execution_count": 61,
   "id": "37dd1387-05d8-406a-8e68-55dd57dca111",
   "metadata": {},
   "outputs": [
    {
     "name": "stdout",
     "output_type": "stream",
     "text": [
      "DecisionTree 0.7193248663101605\n",
      "RandomForest 0.7842408326967151\n",
      "GradientBoosting 0.7986802902979374\n",
      "XGBoost 0.7826340081487141\n"
     ]
    }
   ],
   "source": [
    "print('DecisionTree', cv_results_accuracy[0].mean())\n",
    "print('RandomForest', cv_results_accuracy[1].mean())\n",
    "print('GradientBoosting', cv_results_accuracy[2].mean())\n",
    "print('XGBoost', cv_results_accuracy[3].mean())"
   ]
  },
  {
   "cell_type": "markdown",
   "id": "047f1050-e833-41f8-bbda-3786c2dbdc93",
   "metadata": {},
   "source": [
    "### Model Evaluation"
   ]
  },
  {
   "cell_type": "code",
   "execution_count": 62,
   "id": "f94805a5-8ccc-46d4-bb0e-af454ec4d21b",
   "metadata": {},
   "outputs": [],
   "source": [
    "y_pred = gbr_pipe.predict(X_test_p)\n"
   ]
  },
  {
   "cell_type": "code",
   "execution_count": 63,
   "id": "a6c9fa87-8800-42b3-9c43-64274677aa25",
   "metadata": {},
   "outputs": [
    {
     "name": "stdout",
     "output_type": "stream",
     "text": [
      "gbr_Accuracy: 0.8067047075606276\n",
      "gbr_Precision: 0.6723549488054608\n",
      "gbr_Recall: 0.5295698924731183\n",
      "gbr_F1-score: 0.5924812030075188\n",
      "gbr_Confusion matrix:\n",
      "[[934  96]\n",
      " [175 197]]\n",
      "ROC AUC score: 0.7181830044889863\n"
     ]
    }
   ],
   "source": [
    "from sklearn.metrics import accuracy_score, precision_score, recall_score, f1_score, confusion_matrix, roc_auc_score\n",
    "\n",
    "gbr_Accuracy = accuracy_score(y_test_enc, y_pred)\n",
    "print(\"gbr_Accuracy:\", gbr_Accuracy)\n",
    "\n",
    "gbr_precision = precision_score(y_test_enc, y_pred)\n",
    "print(\"gbr_Precision:\", gbr_precision)\n",
    "\n",
    "gbr_recall = recall_score(y_test_enc, y_pred)\n",
    "print(\"gbr_Recall:\", gbr_recall)\n",
    "\n",
    "gbr_f1 = f1_score(y_test_enc, y_pred)\n",
    "print(\"gbr_F1-score:\", gbr_f1)\n",
    "\n",
    "gbr_matrix = confusion_matrix(y_test_enc, y_pred)\n",
    "print(\"gbr_Confusion matrix:\")\n",
    "print(gbr_matrix)\n",
    "\n",
    "gbr_roc_auc = roc_auc_score(y_test_enc, y_pred)\n",
    "print(\"ROC AUC score:\", gbr_roc_auc)"
   ]
  },
  {
   "cell_type": "markdown",
   "id": "23f10e9a-e581-4f46-881a-a0f02584a993",
   "metadata": {},
   "source": [
    "******   Do UnderSampler   *******"
   ]
  },
  {
   "cell_type": "code",
   "execution_count": 64,
   "id": "283148bb-ecc8-47ea-8dc0-860ed59f0a74",
   "metadata": {},
   "outputs": [],
   "source": [
    "from imblearn.under_sampling import RandomUnderSampler\n",
    "\n",
    "rus = RandomUnderSampler(random_state=42)\n",
    "\n",
    "X_train, y_train_unsample = rus.fit_resample(X_train, y_train)"
   ]
  },
  {
   "cell_type": "code",
   "execution_count": 65,
   "id": "cba64415-f8c1-48d6-aa3b-c7be1bb71161",
   "metadata": {},
   "outputs": [
    {
     "data": {
      "image/png": "[encoded data removed]",
      "text/plain": [
       "<Figure size 640x480 with 1 Axes>"
      ]
     },
     "metadata": {},
     "output_type": "display_data"
    }
   ],
   "source": [
    "keys = ['No', 'Yes']\n",
    "colors = ['#4CB9E7', '#FFECD6']\n",
    "plt.pie(y_train_unsample.value_counts(), labels=keys, autopct='%.0f%%', colors = colors)\n",
    "plt.title('Churn')\n",
    "plt.show()"
   ]
  },
  {
   "cell_type": "code",
   "execution_count": 66,
   "id": "6bb53f9f-474a-4037-8a78-c10810c65a86",
   "metadata": {},
   "outputs": [],
   "source": [
    "y_train_unsample_enc = label_encoder.fit_transform(y_train_unsample)\n",
    "y_test_enc = label_encoder.fit_transform(y_test)"
   ]
  },
  {
   "cell_type": "code",
   "execution_count": 67,
   "id": "56a8d47e-6da4-432b-8446-348d2d6cec43",
   "metadata": {},
   "outputs": [
    {
     "data": {
      "text/plain": [
       "array([0, 0, 0, ..., 1, 1, 1])"
      ]
     },
     "execution_count": 67,
     "metadata": {},
     "output_type": "execute_result"
    }
   ],
   "source": [
    "y_train_unsample_enc"
   ]
  },
  {
   "cell_type": "code",
   "execution_count": 68,
   "id": "a9a29a01-72a0-4eea-b34a-f7182227063f",
   "metadata": {},
   "outputs": [],
   "source": [
    "X_train_p = full_pip.fit_transform(X_train)\n",
    "X_test_p = full_pip.fit_transform(X_test)"
   ]
  },
  {
   "cell_type": "code",
   "execution_count": 69,
   "id": "dc1003f9-11c6-40f5-bcba-0980a3c8499f",
   "metadata": {},
   "outputs": [],
   "source": [
    "for model in models:\n",
    "    model.fit(X_train_p, y_train_unsample_enc)"
   ]
  },
  {
   "cell_type": "code",
   "execution_count": 70,
   "id": "aff0c9be-22fb-428a-b8e0-41f7124ec341",
   "metadata": {},
   "outputs": [],
   "source": [
    "from sklearn.model_selection import cross_val_score\n",
    "from sklearn.metrics import accuracy_score\n",
    "\n",
    "cv_results_accuracy = []\n",
    "\n",
    "\n",
    "for model in models:\n",
    "\n",
    "    cv_scores = cross_val_score(model, X_train_p, y_train_unsample_enc, scoring=\"accuracy\", cv=10)\n",
    "    \n",
    "    cv_results_accuracy.append(cv_scores)\n"
   ]
  },
  {
   "cell_type": "code",
   "execution_count": 71,
   "id": "74f5f7af-fa73-434c-98e6-a128109c4cba",
   "metadata": {},
   "outputs": [
    {
     "name": "stdout",
     "output_type": "stream",
     "text": [
      "DecisionTree 0.6734006734006734\n",
      "RandomForest 0.7491582491582491\n",
      "GradientBoosting 0.771043771043771\n",
      "XGBoost 0.7377104377104378\n"
     ]
    }
   ],
   "source": [
    "print('DecisionTree', cv_results_accuracy[0].mean())\n",
    "print('RandomForest', cv_results_accuracy[1].mean())\n",
    "print('GradientBoosting', cv_results_accuracy[2].mean())\n",
    "print('XGBoost', cv_results_accuracy[3].mean())"
   ]
  },
  {
   "cell_type": "code",
   "execution_count": 72,
   "id": "e2ba0b77-d9fa-41d4-a600-cc712b5b6ac2",
   "metadata": {},
   "outputs": [],
   "source": [
    "y_pred = gbr_pipe.predict(X_test_p)"
   ]
  },
  {
   "cell_type": "code",
   "execution_count": 73,
   "id": "470e6b1e-465e-4297-8b84-a873d3a78a97",
   "metadata": {},
   "outputs": [
    {
     "name": "stdout",
     "output_type": "stream",
     "text": [
      "gbr_Accuracy: 0.7232524964336662\n",
      "gbr_Precision: 0.4866220735785953\n",
      "gbr_Recall: 0.782258064516129\n",
      "gbr_F1-score: 0.6\n",
      "gbr_Confusion matrix:\n",
      "[[723 307]\n",
      " [ 81 291]]\n",
      "ROC AUC score: 0.7420999060444723\n"
     ]
    }
   ],
   "source": [
    "from sklearn.metrics import accuracy_score, precision_score, recall_score, f1_score, confusion_matrix, roc_auc_score\n",
    "\n",
    "gbr_Accuracy = accuracy_score(y_test_enc, y_pred)\n",
    "print(\"gbr_Accuracy:\", gbr_Accuracy)\n",
    "\n",
    "gbr_precision = precision_score(y_test_enc, y_pred)\n",
    "print(\"gbr_Precision:\", gbr_precision)\n",
    "\n",
    "gbr_recall = recall_score(y_test_enc, y_pred)\n",
    "print(\"gbr_Recall:\", gbr_recall)\n",
    "\n",
    "gbr_f1 = f1_score(y_test_enc, y_pred)\n",
    "print(\"gbr_F1-score:\", gbr_f1)\n",
    "\n",
    "gbr_matrix = confusion_matrix(y_test_enc, y_pred)\n",
    "print(\"gbr_Confusion matrix:\")\n",
    "print(gbr_matrix)\n",
    "\n",
    "gbr_roc_auc = roc_auc_score(y_test_enc, y_pred)\n",
    "print(\"ROC AUC score:\", gbr_roc_auc)"
   ]
  },
  {
   "cell_type": "markdown",
   "id": "daee569b-e520-4f29-bb02-c1f1b52a53af",
   "metadata": {},
   "source": [
    "****************************************************"
   ]
  },
  {
   "cell_type": "markdown",
   "id": "a9853aa2-220c-4ebc-8b55-6a2b5cb0c778",
   "metadata": {},
   "source": [
    "### I'll adopt the \"GradientBoosting\" model "
   ]
  },
  {
   "cell_type": "markdown",
   "id": "28de8131-f2a8-4c20-88cf-d6abc8e62b1c",
   "metadata": {},
   "source": [
    ":)"
   ]
  },
  {
   "cell_type": "code",
   "execution_count": null,
   "id": "93cf2dec-dd5e-48f3-bd04-9adfb5413061",
   "metadata": {},
   "outputs": [],
   "source": []
  }
 ],
 "metadata": {
  "kernelspec": {
   "display_name": "Python 3 (ipykernel)",
   "language": "python",
   "name": "python3"
  },
  "language_info": {
   "codemirror_mode": {
    "name": "ipython",
    "version": 3
   },
   "file_extension": ".py",
   "mimetype": "text/x-python",
   "name": "python",
   "nbconvert_exporter": "python",
   "pygments_lexer": "ipython3",
   "version": "3.11.3"
  }
 },
 "nbformat": 4,
 "nbformat_minor": 5
}
